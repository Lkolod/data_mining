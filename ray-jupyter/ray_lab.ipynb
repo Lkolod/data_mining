{
 "cells": [
  {
   "cell_type": "markdown",
   "id": "29cba933-c936-45ad-ab1c-ebf447c53f4e",
   "metadata": {},
   "source": [
    "# Platforma ray"
   ]
  },
  {
   "cell_type": "code",
   "execution_count": 2,
   "id": "d13f8950-2673-46cd-b6f2-bb7976b74e6e",
   "metadata": {},
   "outputs": [
    {
     "name": "stderr",
     "output_type": "stream",
     "text": [
      "2024-05-28 15:41:51,060\tINFO worker.py:1740 -- Started a local Ray instance. View the dashboard at \u001b[1m\u001b[32m172.17.0.2:8265 \u001b[39m\u001b[22m\n"
     ]
    },
    {
     "data": {
      "application/vnd.jupyter.widget-view+json": {
       "model_id": "2ebb1e7430574bf5ae3a8c7e054ca465",
       "version_major": 2,
       "version_minor": 0
      },
      "text/html": [
       "<div class=\"lm-Widget p-Widget lm-Panel p-Panel jp-Cell-outputWrapper\">\n",
       "    <div style=\"margin-left: 50px;display: flex;flex-direction: row;align-items: center\">\n",
       "        <div class=\"jp-RenderedHTMLCommon\" style=\"display: flex; flex-direction: row;\">\n",
       "  <svg viewBox=\"0 0 567 224\" fill=\"none\" xmlns=\"http://www.w3.org/2000/svg\" style=\"height: 3em;\">\n",
       "    <g clip-path=\"url(#clip0_4338_178347)\">\n",
       "        <path d=\"M341.29 165.561H355.29L330.13 129.051C345.63 123.991 354.21 112.051 354.21 94.2307C354.21 71.3707 338.72 58.1807 311.88 58.1807H271V165.561H283.27V131.661H311.8C314.25 131.661 316.71 131.501 319.01 131.351L341.25 165.561H341.29ZM283.29 119.851V70.0007H311.82C331.3 70.0007 342.34 78.2907 342.34 94.5507C342.34 111.271 331.34 119.861 311.82 119.861L283.29 119.851ZM451.4 138.411L463.4 165.561H476.74L428.74 58.1807H416L367.83 165.561H380.83L392.83 138.411H451.4ZM446.19 126.601H398L422 72.1407L446.24 126.601H446.19ZM526.11 128.741L566.91 58.1807H554.35L519.99 114.181L485.17 58.1807H472.44L514.01 129.181V165.541H526.13V128.741H526.11Z\" fill=\"var(--jp-ui-font-color0)\"/>\n",
       "        <path d=\"M82.35 104.44C84.0187 97.8827 87.8248 92.0678 93.1671 87.9146C98.5094 83.7614 105.083 81.5067 111.85 81.5067C118.617 81.5067 125.191 83.7614 130.533 87.9146C135.875 92.0678 139.681 97.8827 141.35 104.44H163.75C164.476 101.562 165.622 98.8057 167.15 96.2605L127.45 56.5605C121.071 60.3522 113.526 61.6823 106.235 60.3005C98.9443 58.9187 92.4094 54.9203 87.8602 49.0574C83.3109 43.1946 81.0609 35.8714 81.5332 28.4656C82.0056 21.0599 85.1679 14.0819 90.4252 8.8446C95.6824 3.60726 102.672 0.471508 110.08 0.0272655C117.487 -0.416977 124.802 1.86091 130.647 6.4324C136.493 11.0039 140.467 17.5539 141.821 24.8501C143.175 32.1463 141.816 39.6859 138 46.0505L177.69 85.7505C182.31 82.9877 187.58 81.4995 192.962 81.4375C198.345 81.3755 203.648 82.742 208.33 85.3976C213.012 88.0532 216.907 91.9029 219.616 96.5544C222.326 101.206 223.753 106.492 223.753 111.875C223.753 117.258 222.326 122.545 219.616 127.197C216.907 131.848 213.012 135.698 208.33 138.353C203.648 141.009 198.345 142.375 192.962 142.313C187.58 142.251 182.31 140.763 177.69 138L138 177.7C141.808 184.071 143.155 191.614 141.79 198.91C140.424 206.205 136.44 212.75 130.585 217.313C124.731 221.875 117.412 224.141 110.004 223.683C102.596 223.226 95.6103 220.077 90.3621 214.828C85.1139 209.58 81.9647 202.595 81.5072 195.187C81.0497 187.779 83.3154 180.459 87.878 174.605C92.4405 168.751 98.9853 164.766 106.281 163.401C113.576 162.035 121.119 163.383 127.49 167.19L167.19 127.49C165.664 124.941 164.518 122.182 163.79 119.3H141.39C139.721 125.858 135.915 131.673 130.573 135.826C125.231 139.98 118.657 142.234 111.89 142.234C105.123 142.234 98.5494 139.98 93.2071 135.826C87.8648 131.673 84.0587 125.858 82.39 119.3H60C58.1878 126.495 53.8086 132.78 47.6863 136.971C41.5641 141.163 34.1211 142.972 26.7579 142.059C19.3947 141.146 12.6191 137.574 7.70605 132.014C2.79302 126.454 0.0813599 119.29 0.0813599 111.87C0.0813599 104.451 2.79302 97.2871 7.70605 91.7272C12.6191 86.1673 19.3947 82.5947 26.7579 81.6817C34.1211 80.7686 41.5641 82.5781 47.6863 86.7696C53.8086 90.9611 58.1878 97.2456 60 104.44H82.35ZM100.86 204.32C103.407 206.868 106.759 208.453 110.345 208.806C113.93 209.159 117.527 208.258 120.522 206.256C123.517 204.254 125.725 201.276 126.771 197.828C127.816 194.38 127.633 190.677 126.253 187.349C124.874 184.021 122.383 181.274 119.205 179.577C116.027 177.88 112.359 177.337 108.826 178.042C105.293 178.746 102.113 180.654 99.8291 183.44C97.5451 186.226 96.2979 189.718 96.3 193.32C96.2985 195.364 96.7006 197.388 97.4831 199.275C98.2656 201.163 99.4132 202.877 100.86 204.32ZM204.32 122.88C206.868 120.333 208.453 116.981 208.806 113.396C209.159 109.811 208.258 106.214 206.256 103.219C204.254 100.223 201.275 98.0151 197.827 96.97C194.38 95.9249 190.676 96.1077 187.348 97.4873C184.02 98.8669 181.274 101.358 179.577 104.536C177.879 107.714 177.337 111.382 178.041 114.915C178.746 118.448 180.653 121.627 183.439 123.911C186.226 126.195 189.717 127.443 193.32 127.44C195.364 127.443 197.388 127.042 199.275 126.259C201.163 125.476 202.878 124.328 204.32 122.88ZM122.88 19.4205C120.333 16.8729 116.981 15.2876 113.395 14.9347C109.81 14.5817 106.213 15.483 103.218 17.4849C100.223 19.4868 98.0146 22.4654 96.9696 25.9131C95.9245 29.3608 96.1073 33.0642 97.4869 36.3922C98.8665 39.7202 101.358 42.4668 104.535 44.1639C107.713 45.861 111.381 46.4036 114.914 45.6992C118.447 44.9949 121.627 43.0871 123.911 40.301C126.195 37.515 127.442 34.0231 127.44 30.4205C127.44 28.3772 127.038 26.3539 126.255 24.4664C125.473 22.5788 124.326 20.8642 122.88 19.4205ZM19.42 100.86C16.8725 103.408 15.2872 106.76 14.9342 110.345C14.5813 113.93 15.4826 117.527 17.4844 120.522C19.4863 123.518 22.4649 125.726 25.9127 126.771C29.3604 127.816 33.0638 127.633 36.3918 126.254C39.7198 124.874 42.4664 122.383 44.1635 119.205C45.8606 116.027 46.4032 112.359 45.6988 108.826C44.9944 105.293 43.0866 102.114 40.3006 99.8296C37.5145 97.5455 34.0227 96.2983 30.42 96.3005C26.2938 96.3018 22.337 97.9421 19.42 100.86ZM100.86 100.86C98.3125 103.408 96.7272 106.76 96.3742 110.345C96.0213 113.93 96.9226 117.527 98.9244 120.522C100.926 123.518 103.905 125.726 107.353 126.771C110.8 127.816 114.504 127.633 117.832 126.254C121.16 124.874 123.906 122.383 125.604 119.205C127.301 116.027 127.843 112.359 127.139 108.826C126.434 105.293 124.527 102.114 121.741 99.8296C118.955 97.5455 115.463 96.2983 111.86 96.3005C109.817 96.299 107.793 96.701 105.905 97.4835C104.018 98.2661 102.303 99.4136 100.86 100.86Z\" fill=\"#00AEEF\"/>\n",
       "    </g>\n",
       "    <defs>\n",
       "        <clipPath id=\"clip0_4338_178347\">\n",
       "            <rect width=\"566.93\" height=\"223.75\" fill=\"white\"/>\n",
       "        </clipPath>\n",
       "    </defs>\n",
       "  </svg>\n",
       "</div>\n",
       "\n",
       "        <table class=\"jp-RenderedHTMLCommon\" style=\"border-collapse: collapse;color: var(--jp-ui-font-color1);font-size: var(--jp-ui-font-size1);\">\n",
       "    <tr>\n",
       "        <td style=\"text-align: left\"><b>Python version:</b></td>\n",
       "        <td style=\"text-align: left\"><b>3.10.12</b></td>\n",
       "    </tr>\n",
       "    <tr>\n",
       "        <td style=\"text-align: left\"><b>Ray version:</b></td>\n",
       "        <td style=\"text-align: left\"><b>2.20.0</b></td>\n",
       "    </tr>\n",
       "    <tr>\n",
       "    <td style=\"text-align: left\"><b>Dashboard:</b></td>\n",
       "    <td style=\"text-align: left\"><b><a href=\"http://172.17.0.2:8265\" target=\"_blank\">http://172.17.0.2:8265</a></b></td>\n",
       "</tr>\n",
       "\n",
       "</table>\n",
       "\n",
       "    </div>\n",
       "</div>\n"
      ],
      "text/plain": [
       "RayContext(dashboard_url='172.17.0.2:8265', python_version='3.10.12', ray_version='2.20.0', ray_commit='5708e75978413e46c703e44f43fd89769f3c148b')"
      ]
     },
     "execution_count": 2,
     "metadata": {},
     "output_type": "execute_result"
    },
    {
     "name": "stdout",
     "output_type": "stream",
     "text": [
      "\u001b[36m(Concatenator pid=646)\u001b[0m [append called] with param: Stoi na stacji lokomotywa\n",
      "\u001b[36m(Concatenator pid=646)\u001b[0m [append called] with param: Ciężka, ogromna i pot z niej spływa -\n",
      "\u001b[36m(Concatenator pid=646)\u001b[0m [append called] with param: Tłusta oliwa.\n",
      "\u001b[36m(Concatenator pid=646)\u001b[0m [get called]\n"
     ]
    }
   ],
   "source": [
    "import ray\n",
    "import time\n",
    "ray.init(dashboard_host='0.0.0.0')"
   ]
  },
  {
   "cell_type": "code",
   "execution_count": 2,
   "id": "8006372f-3746-4e7c-9ce0-8fa3752794e2",
   "metadata": {},
   "outputs": [],
   "source": [
    "# ray.shutdown()"
   ]
  },
  {
   "cell_type": "markdown",
   "id": "4eb0c8d4-cd96-4db0-8603-689ef5153efc",
   "metadata": {},
   "source": [
    "Tablica *Dashboard* jest dostępna pod adresem http://localhost:8265"
   ]
  },
  {
   "cell_type": "markdown",
   "id": "589c8eb8-e2f5-4053-b302-63c9e1f4f04d",
   "metadata": {},
   "source": [
    "## 1. Zadania (Tasks)\n",
    "Cytując: *\"Ray enables arbitrary functions to be executed asynchronously on separate Python workers. Such functions are called Ray remote functions and their asynchronous invocations are called Ray tasks.\"*"
   ]
  },
  {
   "cell_type": "code",
   "execution_count": 2,
   "id": "bd25826d-4d83-4587-bb35-dd1f339d7de3",
   "metadata": {},
   "outputs": [],
   "source": [
    "@ray.remote\n",
    "def suma(a,b):\n",
    "    return a + b"
   ]
  },
  {
   "cell_type": "code",
   "execution_count": 3,
   "id": "dc4ffaf0-5d42-446d-8c6e-40b3c0a8cd82",
   "metadata": {},
   "outputs": [
    {
     "ename": "TypeError",
     "evalue": "Remote functions cannot be called directly. Instead of running '__main__.suma()', try '__main__.suma.remote()'.",
     "output_type": "error",
     "traceback": [
      "\u001b[0;31m---------------------------------------------------------------------------\u001b[0m",
      "\u001b[0;31mTypeError\u001b[0m                                 Traceback (most recent call last)",
      "Cell \u001b[0;32mIn[3], line 2\u001b[0m\n\u001b[1;32m      1\u001b[0m \u001b[38;5;66;03m# Ta funkcja nie zostanie wywołana\u001b[39;00m\n\u001b[0;32m----> 2\u001b[0m \u001b[43msuma\u001b[49m\u001b[43m(\u001b[49m\u001b[38;5;241;43m1\u001b[39;49m\u001b[43m,\u001b[49m\u001b[38;5;241;43m2\u001b[39;49m\u001b[43m)\u001b[49m\n",
      "File \u001b[0;32m/usr/local/lib/python3.10/dist-packages/ray/remote_function.py:144\u001b[0m, in \u001b[0;36mRemoteFunction.__call__\u001b[0;34m(self, *args, **kwargs)\u001b[0m\n\u001b[1;32m    143\u001b[0m \u001b[38;5;28;01mdef\u001b[39;00m \u001b[38;5;21m__call__\u001b[39m(\u001b[38;5;28mself\u001b[39m, \u001b[38;5;241m*\u001b[39margs, \u001b[38;5;241m*\u001b[39m\u001b[38;5;241m*\u001b[39mkwargs):\n\u001b[0;32m--> 144\u001b[0m     \u001b[38;5;28;01mraise\u001b[39;00m \u001b[38;5;167;01mTypeError\u001b[39;00m(\n\u001b[1;32m    145\u001b[0m         \u001b[38;5;124m\"\u001b[39m\u001b[38;5;124mRemote functions cannot be called directly. Instead \u001b[39m\u001b[38;5;124m\"\u001b[39m\n\u001b[1;32m    146\u001b[0m         \u001b[38;5;124mf\u001b[39m\u001b[38;5;124m\"\u001b[39m\u001b[38;5;124mof running \u001b[39m\u001b[38;5;124m'\u001b[39m\u001b[38;5;132;01m{\u001b[39;00m\u001b[38;5;28mself\u001b[39m\u001b[38;5;241m.\u001b[39m_function_name\u001b[38;5;132;01m}\u001b[39;00m\u001b[38;5;124m()\u001b[39m\u001b[38;5;124m'\u001b[39m\u001b[38;5;124m, \u001b[39m\u001b[38;5;124m\"\u001b[39m\n\u001b[1;32m    147\u001b[0m         \u001b[38;5;124mf\u001b[39m\u001b[38;5;124m\"\u001b[39m\u001b[38;5;124mtry \u001b[39m\u001b[38;5;124m'\u001b[39m\u001b[38;5;132;01m{\u001b[39;00m\u001b[38;5;28mself\u001b[39m\u001b[38;5;241m.\u001b[39m_function_name\u001b[38;5;132;01m}\u001b[39;00m\u001b[38;5;124m.remote()\u001b[39m\u001b[38;5;124m'\u001b[39m\u001b[38;5;124m.\u001b[39m\u001b[38;5;124m\"\u001b[39m\n\u001b[1;32m    148\u001b[0m     )\n",
      "\u001b[0;31mTypeError\u001b[0m: Remote functions cannot be called directly. Instead of running '__main__.suma()', try '__main__.suma.remote()'."
     ]
    }
   ],
   "source": [
    "# Ta funkcja nie zostanie wywołana\n",
    "suma(1,2)"
   ]
  },
  {
   "cell_type": "code",
   "execution_count": 4,
   "id": "e72792ff-41fd-41c8-a882-972efadd647a",
   "metadata": {},
   "outputs": [
    {
     "data": {
      "text/plain": [
       "ObjectRef(c8ef45ccd0112571ffffffffffffffffffffffff0100000001000000)"
      ]
     },
     "execution_count": 4,
     "metadata": {},
     "output_type": "execute_result"
    }
   ],
   "source": [
    "# Sprawdż dashboard\n",
    "suma.remote(1,2)"
   ]
  },
  {
   "cell_type": "code",
   "execution_count": 5,
   "id": "2c713a3d-c93f-425f-a052-9a9f481327bd",
   "metadata": {},
   "outputs": [
    {
     "data": {
      "text/plain": [
       "3"
      ]
     },
     "execution_count": 5,
     "metadata": {},
     "output_type": "execute_result"
    }
   ],
   "source": [
    "result_ref = suma.remote(1,2)\n",
    "# Pobierz wynik\n",
    "ray.get(result_ref)"
   ]
  },
  {
   "cell_type": "markdown",
   "id": "7008333f-c8cf-4184-81d4-0b5ba45efe4e",
   "metadata": {},
   "source": [
    "### 1.1 Składanie wywołań "
   ]
  },
  {
   "cell_type": "code",
   "execution_count": 6,
   "id": "664d2fa7-b1dd-4a65-b424-856ab873a79a",
   "metadata": {},
   "outputs": [
    {
     "data": {
      "text/plain": [
       "10"
      ]
     },
     "execution_count": 6,
     "metadata": {},
     "output_type": "execute_result"
    }
   ],
   "source": [
    "result_ref = suma.remote(suma.remote(1,2),suma.remote(3,4))\n",
    "ray.get(result_ref)"
   ]
  },
  {
   "cell_type": "markdown",
   "id": "bf12ff84-ad8a-41b7-b6ff-4ed5671e3f73",
   "metadata": {},
   "source": [
    "Zadania ```suma.remote(1,2)``` i ```suma.remote(3,4)``` mogą być wykonywane współbieżnie na różnych węzłach obliczeniowych. Zadanie zwracające ostateczny wynik będzie oczekiwało na zakończenie poprzednich.\n",
    "\n",
    "Ray analizuje zależności między funkcjami i tworzy graf zależności, który jest używany do efektywnego i równoległego wykonania zadań. "
   ]
  },
  {
   "cell_type": "code",
   "execution_count": 8,
   "id": "fbb852d3-6203-40c8-9bf0-d8fdefd23862",
   "metadata": {},
   "outputs": [
    {
     "data": {
      "text/plain": [
       "10"
      ]
     },
     "execution_count": 8,
     "metadata": {},
     "output_type": "execute_result"
    }
   ],
   "source": [
    "r1 = suma.remote(1,2)\n",
    "r2 = suma.remote(3,4)\n",
    "result_ref = suma.remote(r1,r2)\n",
    "ray.get(result_ref)"
   ]
  },
  {
   "cell_type": "markdown",
   "id": "b876283b-6a86-46f1-a9c8-83824e6f6757",
   "metadata": {},
   "source": [
    "### 1.2 Jeśli funkcja nie zwraca wartości"
   ]
  },
  {
   "cell_type": "code",
   "execution_count": 8,
   "id": "7263a47b-cacf-40fd-b70d-831e4aad1513",
   "metadata": {},
   "outputs": [
    {
     "data": {
      "text/plain": [
       "ObjectRef(f91b78d7db9a6593ffffffffffffffffffffffff0100000001000000)"
      ]
     },
     "execution_count": 8,
     "metadata": {},
     "output_type": "execute_result"
    }
   ],
   "source": [
    "@ray.remote\n",
    "def void_foo(*params):\n",
    "    for k in params:\n",
    "        print(k,end=' ')\n",
    "    print()\n",
    "\n",
    "void_foo.remote(1,'ala',3.5,True)"
   ]
  },
  {
   "cell_type": "markdown",
   "id": "c6fc566c-0987-47b9-8979-4fdbc10fe4d7",
   "metadata": {},
   "source": [
    "**TODO 1.2.1** Znajdź wydruk Dashboard:Jobs > void_foo > stdout"
   ]
  },
  {
   "cell_type": "markdown",
   "id": "df2d8978-1d7e-473e-814b-e3ab4682e971",
   "metadata": {},
   "source": [
    "### 1.3 Ciąg Fibonacciego -  rekurencja\n",
    "Napisz funkcję obliczającą rekurencyjnie n-tą wartość ciągu Fibbonaciego.\n",
    "Sprawdź na tablicy Dashboard ile razy była wywołana funckja dla róznych wartości parametrów (ale raczej n <= 10)"
   ]
  },
  {
   "cell_type": "code",
   "execution_count": 12,
   "id": "d9b9a932-4b28-407e-804b-8e9e2cc0e7f4",
   "metadata": {},
   "outputs": [
    {
     "data": {
      "text/plain": [
       "55"
      ]
     },
     "execution_count": 12,
     "metadata": {},
     "output_type": "execute_result"
    }
   ],
   "source": [
    "@ray.remote\n",
    "def fibo(n):\n",
    "    print(n)\n",
    "    if n <= 1:\n",
    "        return n\n",
    "    else:\n",
    "        return ray.get(fibo.remote(n-1)) + ray.get(fibo.remote(n-2))\n",
    "\n",
    "obj_ref = fibo.remote(10)\n",
    "ray.get(obj_ref)"
   ]
  },
  {
   "cell_type": "markdown",
   "id": "bb38196e-a833-403d-9953-b58bf127c745",
   "metadata": {},
   "source": [
    "### 1.4 Ciąg Fibonacciego -  iteracyjnie"
   ]
  },
  {
   "cell_type": "code",
   "execution_count": 10,
   "id": "26c2a36e-9911-4f01-b61d-6284a5f53950",
   "metadata": {},
   "outputs": [
    {
     "data": {
      "text/plain": [
       "3"
      ]
     },
     "execution_count": 10,
     "metadata": {},
     "output_type": "execute_result"
    }
   ],
   "source": [
    "@ray.remote\n",
    "def next_fibo_number(a,b):\n",
    "    return a + b\n",
    "\n",
    "obj_ref = next_fibo_number.remote(1,2)\n",
    "ray.get(obj_ref)\n"
   ]
  },
  {
   "cell_type": "markdown",
   "id": "a788484e-55ee-4e5a-9ee7-4332ab4ca6f5",
   "metadata": {},
   "source": [
    "**TODO 1.4.1** Wykorzystaj funcję ```next_fibo_number``` do wzynaczenia elementu ciągu Fibboncciego o mnumerze 102 "
   ]
  },
  {
   "cell_type": "code",
   "execution_count": 12,
   "id": "adaf0959-fc47-43fe-b255-4a21ebf2f92e",
   "metadata": {},
   "outputs": [
    {
     "data": {
      "text/plain": [
       "927372692193078999176"
      ]
     },
     "execution_count": 12,
     "metadata": {},
     "output_type": "execute_result"
    }
   ],
   "source": [
    "val1 = 0\n",
    "val2 = 1\n",
    "for i in range(101)\n",
    "    value = next_fibo_number.remote(val1,val2)\n",
    "    val1 = val2\n",
    "    val2 = ray.get(value)\n",
    "\n",
    "\n",
    "ray.get(obj_ref3)"
   ]
  },
  {
   "cell_type": "markdown",
   "id": "c4f8a176-1641-4f21-8d1c-e3bde0f6a969",
   "metadata": {},
   "source": [
    "Dlaczego w tej wersji działa znacznie szybciej? Jak (zapewne) wyglądają drzewa zależnoci w tych dwóch przypadkach?\n",
    "\n"
   ]
  },
  {
   "cell_type": "markdown",
   "id": "df01a84d-7098-48e8-b9f0-3f1be22bc129",
   "metadata": {},
   "source": [
    "### 1.5 Obliczanie pi"
   ]
  },
  {
   "cell_type": "markdown",
   "id": "aa00351e-f52e-48e4-b00b-d489665c1539",
   "metadata": {},
   "source": [
    "**TODO 1.5.1** Napisz funkcję zgodnie ze specyfikacją"
   ]
  },
  {
   "cell_type": "code",
   "execution_count": 3,
   "id": "d069dcf4-f55c-4535-bb40-ccbedd876364",
   "metadata": {},
   "outputs": [
    {
     "data": {
      "text/plain": [
       "3.140192"
      ]
     },
     "execution_count": 3,
     "metadata": {},
     "output_type": "execute_result"
    }
   ],
   "source": [
    "import random\n",
    "num_slices=100\n",
    "slice_size=1000_000\n",
    "\n",
    "@ray.remote\n",
    "def compute_pi_on_slice(slice_size):\n",
    "    \"\"\"\n",
    "    Params: slice_size - liczba powtórzeń\n",
    "    Funkcja losuje dwie liczby x i y i sparwdza, czy mieszczą się w ćwiartce koła. Jesli tak, inkremetuje sumę.\n",
    "    Returns: 4 * suma/ slice_size\n",
    "    \"\"\"\n",
    "    \n",
    "    count = 0\n",
    "    for item in range(slice_size):\n",
    "        x = random.random()\n",
    "        y = random.random()\n",
    "        if x * x + y * y <= 1:\n",
    "            count += 1\n",
    "\n",
    "    return 4 * count / slice_size\n",
    "    \n",
    "   \n",
    "\n",
    "object_ref = compute_pi_on_slice.remote(slice_size=slice_size)\n",
    "ray.get(object_ref)"
   ]
  },
  {
   "cell_type": "code",
   "execution_count": 4,
   "id": "6db0c4be-2d92-4ce6-a39b-01e461352e63",
   "metadata": {},
   "outputs": [],
   "source": [
    "# Dashboard\n",
    "tab_ref = [compute_pi_on_slice.remote(slice_size=slice_size) for i in range(num_slices)]"
   ]
  },
  {
   "cell_type": "code",
   "execution_count": 5,
   "id": "d655c20e-2dbb-4f32-99d9-4a41106ba32d",
   "metadata": {},
   "outputs": [
    {
     "data": {
      "text/plain": [
       "[3.139028,\n",
       " 3.141288,\n",
       " 3.143328,\n",
       " 3.139604,\n",
       " 3.140984,\n",
       " 3.146172,\n",
       " 3.14078,\n",
       " 3.140996,\n",
       " 3.140932,\n",
       " 3.14138,\n",
       " 3.140344,\n",
       " 3.141152,\n",
       " 3.139888,\n",
       " 3.142792,\n",
       " 3.142352,\n",
       " 3.1413,\n",
       " 3.14268,\n",
       " 3.143044,\n",
       " 3.139876,\n",
       " 3.141876,\n",
       " 3.141164,\n",
       " 3.142168,\n",
       " 3.142444,\n",
       " 3.14334,\n",
       " 3.141604,\n",
       " 3.14194,\n",
       " 3.142204,\n",
       " 3.13906,\n",
       " 3.145352,\n",
       " 3.13796,\n",
       " 3.140416,\n",
       " 3.139968,\n",
       " 3.14158,\n",
       " 3.14,\n",
       " 3.142252,\n",
       " 3.140836,\n",
       " 3.14328,\n",
       " 3.140684,\n",
       " 3.140892,\n",
       " 3.144232,\n",
       " 3.143848,\n",
       " 3.140912,\n",
       " 3.1443,\n",
       " 3.14312,\n",
       " 3.14066,\n",
       " 3.142088,\n",
       " 3.140996,\n",
       " 3.138488,\n",
       " 3.141692,\n",
       " 3.140468,\n",
       " 3.139496,\n",
       " 3.14072,\n",
       " 3.141088,\n",
       " 3.142384,\n",
       " 3.139692,\n",
       " 3.140564,\n",
       " 3.141552,\n",
       " 3.14106,\n",
       " 3.146348,\n",
       " 3.14224,\n",
       " 3.141376,\n",
       " 3.142424,\n",
       " 3.139612,\n",
       " 3.144496,\n",
       " 3.142868,\n",
       " 3.138348,\n",
       " 3.143884,\n",
       " 3.140348,\n",
       " 3.14232,\n",
       " 3.141372,\n",
       " 3.142168,\n",
       " 3.140428,\n",
       " 3.140008,\n",
       " 3.139752,\n",
       " 3.144816,\n",
       " 3.14016,\n",
       " 3.142788,\n",
       " 3.139004,\n",
       " 3.140808,\n",
       " 3.141456,\n",
       " 3.14194,\n",
       " 3.140612,\n",
       " 3.139448,\n",
       " 3.142256,\n",
       " 3.139524,\n",
       " 3.140048,\n",
       " 3.139008,\n",
       " 3.1412,\n",
       " 3.14068,\n",
       " 3.141672,\n",
       " 3.143416,\n",
       " 3.1443,\n",
       " 3.143532,\n",
       " 3.13882,\n",
       " 3.143404,\n",
       " 3.142612,\n",
       " 3.142848,\n",
       " 3.140992,\n",
       " 3.140936,\n",
       " 3.137896]"
      ]
     },
     "execution_count": 5,
     "metadata": {},
     "output_type": "execute_result"
    }
   ],
   "source": [
    "# Pobiera wszystkie elementy\n",
    "ray.get(tab_ref)"
   ]
  },
  {
   "cell_type": "code",
   "execution_count": 6,
   "id": "5d556f46-f160-4997-9350-24d50265b0f2",
   "metadata": {},
   "outputs": [],
   "source": [
    "tab_ref = [compute_pi_on_slice.remote(slice_size=slice_size) for i in range(num_slices)]"
   ]
  },
  {
   "cell_type": "markdown",
   "id": "eefc5aed-8eea-4268-aa32-4220a7774619",
   "metadata": {},
   "source": [
    "Funkcja ```ray.wait()``` pobiera informacje o gotowych i oczekujących zadaniach na liście"
   ]
  },
  {
   "cell_type": "code",
   "execution_count": null,
   "id": "35342ada-6fec-4ed4-8c0e-9cbfdadc1c94",
   "metadata": {},
   "outputs": [],
   "source": [
    "ready,remaining = ray.wait(tab_ref,num_returns=len(tab_ref),timeout=1)\n",
    "print('-------------------------- ready ------------------------')\n",
    "print(ready)\n",
    "print('------------------------ remaining ----------------------')\n",
    "print(remaining)"
   ]
  },
  {
   "cell_type": "markdown",
   "id": "e85332e2-5e46-493b-a882-462813db0809",
   "metadata": {},
   "source": [
    "## 2. Aktorzy\n",
    "\n",
    "Cytując: *\"Actors extend the Ray API from functions (tasks) to classes. An actor is essentially a stateful worker (or a service). When a new actor is instantiated, a new worker is created, and methods of the actor are scheduled on that specific worker and can access and mutate the state of that worker.\"*"
   ]
  },
  {
   "cell_type": "markdown",
   "id": "22773cdb-3983-4fdd-b31e-c6736a04da6f",
   "metadata": {},
   "source": [
    "### 2.1 Aktor łączący teksty"
   ]
  },
  {
   "cell_type": "code",
   "execution_count": 7,
   "id": "d6182691-3d11-4f99-9e68-76fc85e97dfc",
   "metadata": {},
   "outputs": [
    {
     "name": "stdout",
     "output_type": "stream",
     "text": [
      "Lokomotywa\n",
      "Stoi na stacji lokomotywa\n",
      "Ciężka, ogromna i pot z niej spływa -\n",
      "Tłusta oliwa.\n"
     ]
    }
   ],
   "source": [
    "@ray.remote\n",
    "class Concatenator:\n",
    "    \n",
    "    def __init__(self,initial_text=''):\n",
    "        self.text = initial_text\n",
    "    \n",
    "    def append(self,text):\n",
    "        print(f'[append called] with param: {text}')\n",
    "        self.text += '\\n'\n",
    "        self.text += text\n",
    "\n",
    "    def get(self):\n",
    "        print(f'[get called]')\n",
    "        return self.text\n",
    "\n",
    "# wywołanie konstruktora\n",
    "conc_ref = Concatenator.remote('Lokomotywa') \n",
    "\n",
    "# wywołanie zdalnych metod obiektu\n",
    "conc_ref.append.remote('Stoi na stacji lokomotywa')\n",
    "conc_ref.append.remote('Ciężka, ogromna i pot z niej spływa -')\n",
    "conc_ref.append.remote('Tłusta oliwa.') \n",
    "\n",
    "text_ref = conc_ref.get.remote()\n",
    "print(ray.get(text_ref))\n",
    "\n",
    "# opcjonalnie można usunąć\n",
    "# del conc_ref"
   ]
  },
  {
   "cell_type": "markdown",
   "id": "3f7da6ac-3c5a-48be-9852-733f7ce28ed4",
   "metadata": {},
   "source": [
    "### 2.2 Aktor zliczający słowa"
   ]
  },
  {
   "cell_type": "markdown",
   "id": "01c790fb-b2a6-4d97-b30d-e6ebc5279445",
   "metadata": {},
   "source": [
    "Counter przechowuje informacje o liczbie wystąpień obiektów"
   ]
  },
  {
   "cell_type": "code",
   "execution_count": 8,
   "id": "4348e9bc-aa4d-4de4-b2f9-87b7bf7e602e",
   "metadata": {},
   "outputs": [
    {
     "data": {
      "text/plain": [
       "[(1, 4), (2, 2), ('a', 2)]"
      ]
     },
     "execution_count": 8,
     "metadata": {},
     "output_type": "execute_result"
    }
   ],
   "source": [
    "from collections import Counter\n",
    "counter = Counter()\n",
    "counter.update([1,1,2,1,1,3,2,'a','a','b'])\n",
    "counter.most_common(3)\n"
   ]
  },
  {
   "cell_type": "markdown",
   "id": "c6558d9f-9539-40f2-9c5e-027194581ed1",
   "metadata": {},
   "source": [
    "Wykorzystamy go do policznia wystąpień słów w tekscie"
   ]
  },
  {
   "cell_type": "code",
   "execution_count": 9,
   "id": "7f1c7dbf-99de-46f2-99b6-ee267f4b38c1",
   "metadata": {},
   "outputs": [
    {
     "data": {
      "text/plain": [
       "['Henryk',\n",
       " 'Sienkiewicz',\n",
       " 'W',\n",
       " 'pustyni',\n",
       " 'i',\n",
       " 'w',\n",
       " 'puszczy',\n",
       " 'ISBN',\n",
       " '978-83-288-2842-1',\n",
       " 'ROZDZIAŁ',\n",
       " 'I',\n",
       " '—',\n",
       " 'Wiesz,',\n",
       " 'Nel',\n",
       " '—',\n",
       " 'mówił',\n",
       " 'Staś',\n",
       " 'Tarkowski',\n",
       " 'do',\n",
       " 'swojej',\n",
       " 'przyjaciółki,',\n",
       " 'małej',\n",
       " 'Angielki',\n",
       " '—',\n",
       " 'wczoraj',\n",
       " 'przyszli',\n",
       " 'zabtie',\n",
       " '(policjanci)',\n",
       " 'i',\n",
       " 'aresztowali']"
      ]
     },
     "execution_count": 9,
     "metadata": {},
     "output_type": "execute_result"
    }
   ],
   "source": [
    "url = 'https://wolnelektury.pl/media/book/txt/w-pustyni-i-w-puszczy.txt'\n",
    "import requests\n",
    "text = requests.get(url).text\n",
    "words = text.split()\n",
    "words[:30]"
   ]
  },
  {
   "cell_type": "markdown",
   "id": "eefffddc-c1db-43f0-8de5-852c32a63b3a",
   "metadata": {},
   "source": [
    "Poprawimy wydzielanie symboli"
   ]
  },
  {
   "cell_type": "code",
   "execution_count": 10,
   "id": "11db7329-a223-413a-9bf6-0182ed4f4946",
   "metadata": {},
   "outputs": [
    {
     "data": {
      "text/plain": [
       "[('i', 3831),\n",
       " ('się', 2739),\n",
       " ('w', 2061),\n",
       " ('na', 1867),\n",
       " ('nie', 1776),\n",
       " ('z', 1705),\n",
       " ('że', 1391),\n",
       " ('do', 1185),\n",
       " ('a', 820),\n",
       " ('to', 757)]"
      ]
     },
     "execution_count": 10,
     "metadata": {},
     "output_type": "execute_result"
    }
   ],
   "source": [
    "from bs4 import BeautifulSoup\n",
    "import re\n",
    "import requests\n",
    "\n",
    "def tokenize(text): \n",
    "    text = BeautifulSoup(text, features=\"html.parser\").get_text(' ')\n",
    "    text = re.sub(r\"[#\\\",!?;-<>/\\\\*\\\\&-]\", \" \", text) #znaki\n",
    "    text = re.sub('\\[[^\\]]*\\]',' ',text) #\n",
    "    text = re.sub(r\"[:\\.\\+\\=()–©°′″•↑—]\", \" \", text) #reszta znaków\n",
    "    text = re.sub(r\"\\d+\\.?\\d*\", \" \", text) #liczby\n",
    "    words = text.split()\n",
    "    return words\n",
    "\n",
    "\n",
    "\n",
    "from collections import Counter\n",
    "word_freq = Counter()\n",
    "\n",
    "url = 'https://wolnelektury.pl/media/book/txt/w-pustyni-i-w-puszczy.txt'\n",
    "\n",
    "text = requests.get(url).text\n",
    "\n",
    "words = tokenize(text)\n",
    "word_freq.update(words)\n",
    "top_words=word_freq.most_common(10)\n",
    "top_words"
   ]
  },
  {
   "cell_type": "code",
   "execution_count": 11,
   "id": "7b2b8e09-ef09-423c-a6ed-533ab4da9c22",
   "metadata": {},
   "outputs": [
    {
     "data": {
      "text/plain": [
       "[('Publikacja', 1),\n",
       " ('zrealizowana', 1),\n",
       " ('Reprodukcja', 1),\n",
       " ('cyfrowa', 1),\n",
       " ('Bibliotekę', 1),\n",
       " ('Narodową', 1),\n",
       " ('egzemplarza', 1),\n",
       " ('pochodzącego', 1),\n",
       " ('zbiorów', 1),\n",
       " ('BN', 1),\n",
       " ('Opracowanie', 1),\n",
       " ('redakcyjne', 1),\n",
       " ('Izabela', 1),\n",
       " ('Erdmann', 1),\n",
       " ('Tomasz', 1),\n",
       " ('Jodełka', 1),\n",
       " ('Burzecki', 1),\n",
       " ('Sekuła', 1),\n",
       " ('Olga', 1)]"
      ]
     },
     "execution_count": 11,
     "metadata": {},
     "output_type": "execute_result"
    }
   ],
   "source": [
    "word_freq.most_common()[-20:-1]"
   ]
  },
  {
   "cell_type": "markdown",
   "id": "99d3a082-a2fc-411a-bcf5-1e51c739fb0f",
   "metadata": {},
   "source": [
    "Kolejne uaktualnienie"
   ]
  },
  {
   "cell_type": "code",
   "execution_count": 12,
   "id": "60e3f2cf-7d46-4284-ad24-227d4feba441",
   "metadata": {},
   "outputs": [
    {
     "data": {
      "text/plain": [
       "[('i', 4579),\n",
       " ('w', 3189),\n",
       " ('się', 2989),\n",
       " ('na', 2208),\n",
       " ('z', 2036),\n",
       " ('nie', 1813),\n",
       " ('że', 1402),\n",
       " ('do', 1387),\n",
       " ('a', 964),\n",
       " ('to', 826)]"
      ]
     },
     "execution_count": 12,
     "metadata": {},
     "output_type": "execute_result"
    }
   ],
   "source": [
    "text = requests.get('https://pl.wikipedia.org/wiki/Polska').text\n",
    "\n",
    "words = tokenize(text)\n",
    "word_freq.update(words)\n",
    "top_words=word_freq.most_common(10)\n",
    "top_words"
   ]
  },
  {
   "cell_type": "markdown",
   "id": "770a2453-216b-4d45-ade3-17302d2dc3b7",
   "metadata": {},
   "source": [
    "**TODO 2.2.1** Napisz klasę (aktora) ```WordCountingActor``` z metodami:\n",
    "* konstruktorem - inicjalizuje atrybut typu ```Counter```\n",
    "* tokenize() - wykorzystaj gotową funkcję\n",
    "* add_text(self,text:str) - dzieli tekst na słowa i uaktualnia licznik\n",
    "* get_top_words(self,n: int) - zwraca n najczęsciej występujących słów"
   ]
  },
  {
   "cell_type": "code",
   "execution_count": 13,
   "id": "5dd35ded-1cc1-40ab-b22d-02f4b234b967",
   "metadata": {},
   "outputs": [],
   "source": [
    "from collections import Counter\n",
    "from bs4 import BeautifulSoup\n",
    "import re\n",
    "\n",
    "@ray.remote\n",
    "class WordCountingActor:\n",
    "    def __init__(self):\n",
    "        self.word_freq = Counter()\n",
    "\n",
    "    def tokenize(self,text:str): \n",
    "        words = tokenize(text)\n",
    "        self.word_freq.update(words)\n",
    "\n",
    "    \n",
    "    def add_text(self,text:str):\n",
    "        words = text.split()\n",
    "        self.word_freq.update(words)\n",
    "\n",
    "    def get_top_words(self,n: int):\n",
    "        top_words= self.word_freq.most_common(n)\n",
    "        return top_words"
   ]
  },
  {
   "cell_type": "markdown",
   "id": "4f3745f6-5a32-4634-ab47-b84989ef1562",
   "metadata": {},
   "source": [
    "**TODO 2.2.2** Utwórz aktora i dodawaj teksty pobrane ze stron internetowych. Możesz rozszerzyć przykładową listę. Po dodaniu teksty wypisz 10 najczęściej pojawiająych się słów."
   ]
  },
  {
   "cell_type": "code",
   "execution_count": 14,
   "id": "42aeabda-cc2e-4d15-b75d-015db2362269",
   "metadata": {},
   "outputs": [],
   "source": [
    "wca_ref = WordCountingActor.remote() "
   ]
  },
  {
   "cell_type": "code",
   "execution_count": 15,
   "id": "51eb2e5d-3a36-47b2-915c-0584500787aa",
   "metadata": {},
   "outputs": [
    {
     "name": "stdout",
     "output_type": "stream",
     "text": [
      "[('w', 2089), ('i', 1403), ('z', 695), ('na', 625), ('się', 432), ('W', 387), ('do', 374), ('r', 331), ('Polski', 271), ('Kraków', 268)]\n"
     ]
    }
   ],
   "source": [
    "urls = ['https://pl.wikipedia.org/wiki/Akademia_G%C3%B3rniczo-Hutnicza_im._Stanis%C5%82awa_Staszica_w_Krakowie',\n",
    "        'https://pl.wikipedia.org/wiki/Polska',\n",
    "        'https://pl.wikipedia.org/wiki/Krak%C3%B3w',\n",
    "        'https://www.agh.edu.pl/']\n",
    "for url in urls:\n",
    "    text = requests.get(url).text\n",
    "    wca_ref.tokenize.remote(text)\n",
    "    \n",
    "top = wca_ref.get_top_words.remote(10)\n",
    "print(ray.get(top))"
   ]
  },
  {
   "cell_type": "markdown",
   "id": "2d13737e-4be2-49b3-97d5-c8ec50224c8f",
   "metadata": {},
   "source": [
    "## 3. Obiekty (object)\n",
    "\n",
    "Cytując: *\"In Ray, tasks and actors create and compute on objects. We refer to these objects as remote objects because they can be stored anywhere in a Ray cluster, and we use object refs to refer to them. Remote objects are cached in Ray’s distributed shared-memory object store, and there is one object store per node in the cluster. In the cluster setting, a remote object can live on one or many nodes, independent of who holds the object ref(s).*\n",
    "\n",
    "*An object ref is essentially a pointer or a unique ID that can be used to refer to a remote object without seeing its value. If you’re familiar with futures, Ray object refs are conceptually similar.\"*\n",
    "\n",
    "Załadujemy obraz i utworzymy reprezentujący go obiekt"
   ]
  },
  {
   "cell_type": "code",
   "execution_count": 16,
   "id": "b2c382cf-4913-43b3-aa79-e51c59864624",
   "metadata": {},
   "outputs": [
    {
     "data": {
      "image/png": "[encoded data removed]",
      "text/plain": [
       "<Figure size 500x500 with 1 Axes>"
      ]
     },
     "metadata": {},
     "output_type": "display_data"
    }
   ],
   "source": [
    "from PIL import Image\n",
    "import requests\n",
    "from io import BytesIO\n",
    "import matplotlib.pyplot as plt\n",
    "import numpy as np\n",
    "\n",
    "plt.rcParams['figure.figsize'] = (5, 5)\n",
    "\n",
    "response = requests.get('https://upload.wikimedia.org/wikipedia/commons/thumb/d/d3/Albert_Einstein_Head.jpg/540px-Albert_Einstein_Head.jpg')\n",
    "img = Image.open(BytesIO(response.content))\n",
    "img = np.array(img)\n",
    "\n",
    "plt.imshow(img,cmap='gray')\n",
    "plt.show()"
   ]
  },
  {
   "cell_type": "code",
   "execution_count": 17,
   "id": "d543bd2b-a143-4d37-a3f4-785c5ba292d1",
   "metadata": {},
   "outputs": [],
   "source": [
    "img_ref = ray.put(img)"
   ]
  },
  {
   "cell_type": "code",
   "execution_count": 18,
   "id": "2fa5560b-1709-47d3-9429-b37a1558e47f",
   "metadata": {
    "scrolled": true
   },
   "outputs": [
    {
     "data": {
      "image/png": "[encoded data removed]",
      "text/plain": [
       "<Figure size 500x500 with 1 Axes>"
      ]
     },
     "metadata": {},
     "output_type": "display_data"
    }
   ],
   "source": [
    "img_copy = ray.get(img_ref)\n",
    "plt.imshow(img_copy,cmap='gray')\n",
    "plt.show()"
   ]
  },
  {
   "cell_type": "markdown",
   "id": "2c56f7d4-f165-49ef-b632-5a9dfb3c7105",
   "metadata": {},
   "source": [
    "## 4. Biblioteka  Ray Data i Dataset\n",
    "Cytując: *\"Ray Data is a scalable data processing library for ML workloads. It provides flexible and performant APIs for scaling Offline batch inference and Data preprocessing and ingest for ML training. Ray Data uses streaming execution to efficiently process large datasets.*\n",
    "\n",
    "Podstawową klasą jest ```Dataset```. Podobue, jak w przypadku Sparka możliwy jest:\n",
    "* odczyt danych z róznych źródeł\n",
    "* zapis w róznych formatach\n",
    "* podstawowe transformacje (w tym konwersja do Pandas)\n",
    "* podział na wsady (batch)\n",
    "* automatyczne partycjonowanie i rozkładanie pomiędzy węzły\n",
    "* iteracja po pojedynczych danych lub z podziałem na wsady w formatach zgodnych z Tensorflow i Torch\n"
   ]
  },
  {
   "cell_type": "code",
   "execution_count": 79,
   "id": "8ba12f0e-2b88-4180-a121-9e165429454d",
   "metadata": {},
   "outputs": [],
   "source": [
    "ds_train = ray.data.read_csv(\"twitter_training.csv\")\n",
    "ds_test = ray.data.read_csv(\"twitter_validation.csv\")"
   ]
  },
  {
   "cell_type": "code",
   "execution_count": 80,
   "id": "b037563b-35fd-4a9e-a275-36a603bc106a",
   "metadata": {},
   "outputs": [
    {
     "data": {
      "application/vnd.jupyter.widget-view+json": {
       "model_id": "25d70131049a4ee59db9b5e0608fd601",
       "version_major": 2,
       "version_minor": 0
      },
      "text/plain": [
       "Dataset(\n",
       "   num_rows=74682,\n",
       "   schema={\n",
       "      TweetId: int64,\n",
       "      Entity: string,\n",
       "      Sentiment: string,\n",
       "      TweetContent: string\n",
       "   }\n",
       ")"
      ]
     },
     "execution_count": 80,
     "metadata": {},
     "output_type": "execute_result"
    }
   ],
   "source": [
    "ds_train"
   ]
  },
  {
   "cell_type": "code",
   "execution_count": 81,
   "id": "2c6a713b-5b35-4227-9314-2acc89945155",
   "metadata": {},
   "outputs": [
    {
     "name": "stderr",
     "output_type": "stream",
     "text": [
      "2024-05-28 16:01:32,729\tINFO streaming_executor.py:112 -- Starting execution of Dataset. Full logs are in /tmp/ray/session_2024-05-28_15-41-48_046565_26/logs/ray-data\n",
      "2024-05-28 16:01:32,729\tINFO streaming_executor.py:113 -- Execution plan of Dataset: InputDataBuffer[Input] -> TaskPoolMapOperator[ReadCSV] -> LimitOperator[limit=5]\n"
     ]
    },
    {
     "data": {
      "application/vnd.jupyter.widget-view+json": {
       "model_id": "c9bcebc3c9a94f53a38ac555cd19e940",
       "version_major": 2,
       "version_minor": 0
      },
      "text/plain": [
       "- ReadCSV->SplitBlocks(16) 1:   0%|                                                                           …"
      ]
     },
     "metadata": {},
     "output_type": "display_data"
    },
    {
     "data": {
      "application/vnd.jupyter.widget-view+json": {
       "model_id": "81fa639192f94fc59e4b33d3abec8fa0",
       "version_major": 2,
       "version_minor": 0
      },
      "text/plain": [
       "- limit=5 2:   0%|                                                                                            …"
      ]
     },
     "metadata": {},
     "output_type": "display_data"
    },
    {
     "data": {
      "application/vnd.jupyter.widget-view+json": {
       "model_id": "80c6f9805de548a388059d3b35914861",
       "version_major": 2,
       "version_minor": 0
      },
      "text/plain": [
       "Running 0:   0%|                                                                                              …"
      ]
     },
     "metadata": {},
     "output_type": "display_data"
    },
    {
     "name": "stdout",
     "output_type": "stream",
     "text": [
      "{'TweetId': 2401, 'Entity': 'Borderlands', 'Sentiment': 'Positive', 'TweetContent': 'im getting on borderlands and i will murder you all ,'}\n",
      "{'TweetId': 2401, 'Entity': 'Borderlands', 'Sentiment': 'Positive', 'TweetContent': 'I am coming to the borders and I will kill you all,'}\n",
      "{'TweetId': 2401, 'Entity': 'Borderlands', 'Sentiment': 'Positive', 'TweetContent': 'im getting on borderlands and i will kill you all,'}\n",
      "{'TweetId': 2401, 'Entity': 'Borderlands', 'Sentiment': 'Positive', 'TweetContent': 'im coming on borderlands and i will murder you all,'}\n",
      "{'TweetId': 2401, 'Entity': 'Borderlands', 'Sentiment': 'Positive', 'TweetContent': 'im getting on borderlands 2 and i will murder you me all,'}\n"
     ]
    }
   ],
   "source": [
    "ds_train.show(5)"
   ]
  },
  {
   "cell_type": "code",
   "execution_count": 82,
   "id": "ae7f476e-a61c-4d05-b93e-020b3aeaa1db",
   "metadata": {},
   "outputs": [
    {
     "data": {
      "text/plain": [
       "'Operator 1 ReadCSV->SplitBlocks(16): 1 tasks executed, 3 blocks produced in 0.04s\\n* Remote wall time: 196.08us min, 39.73ms max, 13.39ms mean, 40.16ms total\\n* Remote cpu time: 195.29us min, 35.8ms max, 12.08ms mean, 36.23ms total\\n* UDF time: 0us min, 0us max, 0.0us mean, 0us total\\n* Peak heap memory usage (MiB): 272.66 min, 272.66 max, 272 mean\\n* Output num rows per block: 4668 min, 4668 max, 4668 mean, 14004 total\\n* Output size bytes per block: 635399 min, 724802 max, 685173 mean, 2055520 total\\n* Output rows per task: 14004 min, 14004 max, 14004 mean, 1 tasks used\\n* Tasks per node: 1 min, 1 max, 1 mean; 1 nodes used\\n* Operator throughput:\\n\\t* Ray Data throughput: 312742.28520583065 rows/s\\n\\t* Estimated single node throughput: 348708.8005558901 rows/s\\n\\nOperator 2 limit=5: 1 tasks executed, 1 blocks produced in 0.04s\\n* Remote wall time: 39.73ms min, 39.73ms max, 39.73ms mean, 39.73ms total\\n* Remote cpu time: 35.8ms min, 35.8ms max, 35.8ms mean, 35.8ms total\\n* UDF time: 0us min, 0us max, 0.0us mean, 0us total\\n* Peak heap memory usage (MiB): 272.66 min, 272.66 max, 272 mean\\n* Output num rows per block: 5 min, 5 max, 5 mean, 5 total\\n* Output size bytes per block: 457 min, 457 max, 457 mean, 457 total\\n* Output rows per task: 5 min, 5 max, 5 mean, 1 tasks used\\n* Tasks per node: 1 min, 1 max, 1 mean; 1 nodes used\\n* Operator throughput:\\n\\t* Ray Data throughput: 125.85159689241677 rows/s\\n\\t* Estimated single node throughput: 125.85159689241677 rows/s\\n\\nDataset iterator time breakdown:\\n    * Total time in Ray Data iterator initialization code: 108.5ms\\n    * Total time user thread is blocked by Ray Data iter_batches: 8.55ms\\n    * Total execution time for user thread: 562.38us\\n* Batch iteration time breakdown (summed across prefetch threads):\\n    * In ray.get(): 830.21us min, 830.21us max, 830.21us avg, 830.21us total\\n    * In batch creation: 2.21us min, 2.21us max, 2.21us avg, 2.21us total\\n    * In batch formatting: 2.92us min, 2.92us max, 2.92us avg, 2.92us total\\n\\nDataset throughput:\\n\\t* Ray Data throughput: 111.66176992496095 rows/s\\n\\t* Estimated single node throughput: 62.586905098603815 rows/s\\n'"
      ]
     },
     "execution_count": 82,
     "metadata": {},
     "output_type": "execute_result"
    }
   ],
   "source": [
    "ds_train.stats()"
   ]
  },
  {
   "cell_type": "markdown",
   "id": "2b6ba726-865f-4f6b-aa59-2df17cbee8a2",
   "metadata": {},
   "source": [
    "### 4.1 Podstawowe transformacje"
   ]
  },
  {
   "cell_type": "markdown",
   "id": "fb44cb8a-941e-45ee-9c28-c8b9a8d47e66",
   "metadata": {},
   "source": [
    "#### to_pandas"
   ]
  },
  {
   "cell_type": "code",
   "execution_count": 83,
   "id": "666f620b-9657-481a-b2bb-af9f6f4d671b",
   "metadata": {},
   "outputs": [
    {
     "data": {
      "application/vnd.jupyter.widget-view+json": {
       "model_id": "8f656742d3394f8bba4e7eb3657bd676",
       "version_major": 2,
       "version_minor": 0
      },
      "text/plain": [
       "Read progress 0:   0%|                                                                                        …"
      ]
     },
     "metadata": {},
     "output_type": "display_data"
    },
    {
     "data": {
      "application/vnd.jupyter.widget-view+json": {
       "model_id": "4efa78a6ad65433e8b445bdaaefdf51f",
       "version_major": 2,
       "version_minor": 0
      },
      "text/plain": [
       "Read progress 0:   0%|                                                                                        …"
      ]
     },
     "metadata": {},
     "output_type": "display_data"
    },
    {
     "data": {
      "application/vnd.jupyter.widget-view+json": {
       "model_id": "1d4821f9a82044bd897a44ba0d7dd491",
       "version_major": 2,
       "version_minor": 0
      },
      "text/plain": [
       "Read progress 0:   0%|                                                                                        …"
      ]
     },
     "metadata": {},
     "output_type": "display_data"
    },
    {
     "data": {
      "text/html": [
       "<div>\n",
       "<style scoped>\n",
       "    .dataframe tbody tr th:only-of-type {\n",
       "        vertical-align: middle;\n",
       "    }\n",
       "\n",
       "    .dataframe tbody tr th {\n",
       "        vertical-align: top;\n",
       "    }\n",
       "\n",
       "    .dataframe thead th {\n",
       "        text-align: right;\n",
       "    }\n",
       "</style>\n",
       "<table border=\"1\" class=\"dataframe\">\n",
       "  <thead>\n",
       "    <tr style=\"text-align: right;\">\n",
       "      <th></th>\n",
       "      <th>TweetId</th>\n",
       "      <th>Entity</th>\n",
       "      <th>Sentiment</th>\n",
       "      <th>TweetContent</th>\n",
       "    </tr>\n",
       "  </thead>\n",
       "  <tbody>\n",
       "    <tr>\n",
       "      <th>0</th>\n",
       "      <td>2401</td>\n",
       "      <td>Borderlands</td>\n",
       "      <td>Positive</td>\n",
       "      <td>im getting on borderlands and i will murder yo...</td>\n",
       "    </tr>\n",
       "    <tr>\n",
       "      <th>1</th>\n",
       "      <td>2401</td>\n",
       "      <td>Borderlands</td>\n",
       "      <td>Positive</td>\n",
       "      <td>I am coming to the borders and I will kill you...</td>\n",
       "    </tr>\n",
       "    <tr>\n",
       "      <th>2</th>\n",
       "      <td>2401</td>\n",
       "      <td>Borderlands</td>\n",
       "      <td>Positive</td>\n",
       "      <td>im getting on borderlands and i will kill you ...</td>\n",
       "    </tr>\n",
       "    <tr>\n",
       "      <th>3</th>\n",
       "      <td>2401</td>\n",
       "      <td>Borderlands</td>\n",
       "      <td>Positive</td>\n",
       "      <td>im coming on borderlands and i will murder you...</td>\n",
       "    </tr>\n",
       "    <tr>\n",
       "      <th>4</th>\n",
       "      <td>2401</td>\n",
       "      <td>Borderlands</td>\n",
       "      <td>Positive</td>\n",
       "      <td>im getting on borderlands 2 and i will murder ...</td>\n",
       "    </tr>\n",
       "    <tr>\n",
       "      <th>5</th>\n",
       "      <td>2401</td>\n",
       "      <td>Borderlands</td>\n",
       "      <td>Positive</td>\n",
       "      <td>im getting into borderlands and i can murder y...</td>\n",
       "    </tr>\n",
       "    <tr>\n",
       "      <th>6</th>\n",
       "      <td>2402</td>\n",
       "      <td>Borderlands</td>\n",
       "      <td>Positive</td>\n",
       "      <td>So I spent a few hours making something for fu...</td>\n",
       "    </tr>\n",
       "    <tr>\n",
       "      <th>7</th>\n",
       "      <td>2402</td>\n",
       "      <td>Borderlands</td>\n",
       "      <td>Positive</td>\n",
       "      <td>So I spent a couple of hours doing something f...</td>\n",
       "    </tr>\n",
       "    <tr>\n",
       "      <th>8</th>\n",
       "      <td>2402</td>\n",
       "      <td>Borderlands</td>\n",
       "      <td>Positive</td>\n",
       "      <td>So I spent a few hours doing something for fun...</td>\n",
       "    </tr>\n",
       "    <tr>\n",
       "      <th>9</th>\n",
       "      <td>2402</td>\n",
       "      <td>Borderlands</td>\n",
       "      <td>Positive</td>\n",
       "      <td>So I spent a few hours making something for fu...</td>\n",
       "    </tr>\n",
       "  </tbody>\n",
       "</table>\n",
       "</div>"
      ],
      "text/plain": [
       "   TweetId       Entity Sentiment  \\\n",
       "0     2401  Borderlands  Positive   \n",
       "1     2401  Borderlands  Positive   \n",
       "2     2401  Borderlands  Positive   \n",
       "3     2401  Borderlands  Positive   \n",
       "4     2401  Borderlands  Positive   \n",
       "5     2401  Borderlands  Positive   \n",
       "6     2402  Borderlands  Positive   \n",
       "7     2402  Borderlands  Positive   \n",
       "8     2402  Borderlands  Positive   \n",
       "9     2402  Borderlands  Positive   \n",
       "\n",
       "                                        TweetContent  \n",
       "0  im getting on borderlands and i will murder yo...  \n",
       "1  I am coming to the borders and I will kill you...  \n",
       "2  im getting on borderlands and i will kill you ...  \n",
       "3  im coming on borderlands and i will murder you...  \n",
       "4  im getting on borderlands 2 and i will murder ...  \n",
       "5  im getting into borderlands and i can murder y...  \n",
       "6  So I spent a few hours making something for fu...  \n",
       "7  So I spent a couple of hours doing something f...  \n",
       "8  So I spent a few hours doing something for fun...  \n",
       "9  So I spent a few hours making something for fu...  "
      ]
     },
     "execution_count": 83,
     "metadata": {},
     "output_type": "execute_result"
    }
   ],
   "source": [
    "df_train = ds_train.to_pandas()\n",
    "df_test = ds_test.to_pandas()\n",
    "df_train.head(10)"
   ]
  },
  {
   "cell_type": "markdown",
   "id": "71a4fddd-676b-42a5-a920-b4f739baadd3",
   "metadata": {},
   "source": [
    "#### select_columns"
   ]
  },
  {
   "cell_type": "code",
   "execution_count": 84,
   "id": "042d0df8-fafc-48ad-9448-7b8ba1c2a401",
   "metadata": {},
   "outputs": [
    {
     "name": "stderr",
     "output_type": "stream",
     "text": [
      "2024-05-28 16:01:33,766\tINFO streaming_executor.py:112 -- Starting execution of Dataset. Full logs are in /tmp/ray/session_2024-05-28_15-41-48_046565_26/logs/ray-data\n",
      "2024-05-28 16:01:33,767\tINFO streaming_executor.py:113 -- Execution plan of Dataset: InputDataBuffer[Input] -> TaskPoolMapOperator[ReadCSV] -> TaskPoolMapOperator[MapBatches(select_columns)] -> LimitOperator[limit=5]\n"
     ]
    },
    {
     "data": {
      "application/vnd.jupyter.widget-view+json": {
       "model_id": "8dc25a8d6c454fca97c22479fd3a8b10",
       "version_major": 2,
       "version_minor": 0
      },
      "text/plain": [
       "- ReadCSV->SplitBlocks(16) 1:   0%|                                                                           …"
      ]
     },
     "metadata": {},
     "output_type": "display_data"
    },
    {
     "data": {
      "application/vnd.jupyter.widget-view+json": {
       "model_id": "647b229d0c8745a2b081f9a6572a63d6",
       "version_major": 2,
       "version_minor": 0
      },
      "text/plain": [
       "- MapBatches(select_columns) 2:   0%|                                                                         …"
      ]
     },
     "metadata": {},
     "output_type": "display_data"
    },
    {
     "data": {
      "application/vnd.jupyter.widget-view+json": {
       "model_id": "b183cd3268754ce79faa8f2e8bd3ff3d",
       "version_major": 2,
       "version_minor": 0
      },
      "text/plain": [
       "- limit=5 3:   0%|                                                                                            …"
      ]
     },
     "metadata": {},
     "output_type": "display_data"
    },
    {
     "data": {
      "application/vnd.jupyter.widget-view+json": {
       "model_id": "79e4d4db623844c9aba9ba4f318bcbcc",
       "version_major": 2,
       "version_minor": 0
      },
      "text/plain": [
       "Running 0:   0%|                                                                                              …"
      ]
     },
     "metadata": {},
     "output_type": "display_data"
    },
    {
     "name": "stdout",
     "output_type": "stream",
     "text": [
      "{'Entity': 'Borderlands', 'Sentiment': 'Positive'}\n",
      "{'Entity': 'Borderlands', 'Sentiment': 'Positive'}\n",
      "{'Entity': 'Borderlands', 'Sentiment': 'Positive'}\n",
      "{'Entity': 'Borderlands', 'Sentiment': 'Positive'}\n",
      "{'Entity': 'Borderlands', 'Sentiment': 'Positive'}\n"
     ]
    }
   ],
   "source": [
    "ds2 = ds_train.select_columns(['Entity','Sentiment']).show(5)"
   ]
  },
  {
   "cell_type": "markdown",
   "id": "5b2cd49a-3ebd-4171-8309-ded4cc3410a4",
   "metadata": {},
   "source": [
    "#### groupby"
   ]
  },
  {
   "cell_type": "code",
   "execution_count": 85,
   "id": "31bef6a5-8eda-4618-b0de-e775d67d01fe",
   "metadata": {},
   "outputs": [
    {
     "name": "stderr",
     "output_type": "stream",
     "text": [
      "2024-05-28 16:01:34,158\tINFO streaming_executor.py:112 -- Starting execution of Dataset. Full logs are in /tmp/ray/session_2024-05-28_15-41-48_046565_26/logs/ray-data\n",
      "2024-05-28 16:01:34,159\tINFO streaming_executor.py:113 -- Execution plan of Dataset: InputDataBuffer[Input] -> TaskPoolMapOperator[ReadCSV] -> TaskPoolMapOperator[MapBatches(select_columns)] -> LimitOperator[limit=1]\n"
     ]
    },
    {
     "data": {
      "application/vnd.jupyter.widget-view+json": {
       "model_id": "e7db2811b2594cb0a9be6b10b2129c8e",
       "version_major": 2,
       "version_minor": 0
      },
      "text/plain": [
       "- ReadCSV->SplitBlocks(16) 1:   0%|                                                                           …"
      ]
     },
     "metadata": {},
     "output_type": "display_data"
    },
    {
     "data": {
      "application/vnd.jupyter.widget-view+json": {
       "model_id": "df5b9f8898a44d04b7fd6db99af87687",
       "version_major": 2,
       "version_minor": 0
      },
      "text/plain": [
       "- MapBatches(select_columns) 2:   0%|                                                                         …"
      ]
     },
     "metadata": {},
     "output_type": "display_data"
    },
    {
     "data": {
      "application/vnd.jupyter.widget-view+json": {
       "model_id": "f8523dd8360348a480ee98c635bcac8f",
       "version_major": 2,
       "version_minor": 0
      },
      "text/plain": [
       "- limit=1 3:   0%|                                                                                            …"
      ]
     },
     "metadata": {},
     "output_type": "display_data"
    },
    {
     "data": {
      "application/vnd.jupyter.widget-view+json": {
       "model_id": "d280880b6aa441df81ee41cb8abcfa5e",
       "version_major": 2,
       "version_minor": 0
      },
      "text/plain": [
       "Running 0:   0%|                                                                                              …"
      ]
     },
     "metadata": {},
     "output_type": "display_data"
    }
   ],
   "source": [
    "ds2 = ds_train.select_columns(['Entity','Sentiment']).groupby(['Entity','Sentiment']).count()"
   ]
  },
  {
   "cell_type": "code",
   "execution_count": 86,
   "id": "f70c590b-9b61-49f0-8535-d95b29905e12",
   "metadata": {},
   "outputs": [
    {
     "name": "stderr",
     "output_type": "stream",
     "text": [
      "2024-05-28 16:01:34,467\tINFO streaming_executor.py:112 -- Starting execution of Dataset. Full logs are in /tmp/ray/session_2024-05-28_15-41-48_046565_26/logs/ray-data\n",
      "2024-05-28 16:01:34,468\tINFO streaming_executor.py:113 -- Execution plan of Dataset: InputDataBuffer[Input] -> TaskPoolMapOperator[ReadCSV] -> TaskPoolMapOperator[MapBatches(select_columns)] -> AllToAllOperator[Aggregate]\n"
     ]
    },
    {
     "data": {
      "application/vnd.jupyter.widget-view+json": {
       "model_id": "",
       "version_major": 2,
       "version_minor": 0
      },
      "text/plain": [
       "- ReadCSV->SplitBlocks(16) 1:   0%|                                                                           …"
      ]
     },
     "metadata": {},
     "output_type": "display_data"
    },
    {
     "data": {
      "application/vnd.jupyter.widget-view+json": {
       "model_id": "",
       "version_major": 2,
       "version_minor": 0
      },
      "text/plain": [
       "- MapBatches(select_columns) 2:   0%|                                                                         …"
      ]
     },
     "metadata": {},
     "output_type": "display_data"
    },
    {
     "data": {
      "application/vnd.jupyter.widget-view+json": {
       "model_id": "bc841c72ced14b4c9e64d9817e273448",
       "version_major": 2,
       "version_minor": 0
      },
      "text/plain": [
       "- Aggregate 3:   0%|                                                                                          …"
      ]
     },
     "metadata": {},
     "output_type": "display_data"
    },
    {
     "data": {
      "application/vnd.jupyter.widget-view+json": {
       "model_id": "",
       "version_major": 2,
       "version_minor": 0
      },
      "text/plain": [
       "Shuffle Map 4:   0%|                                                                                          …"
      ]
     },
     "metadata": {},
     "output_type": "display_data"
    },
    {
     "data": {
      "application/vnd.jupyter.widget-view+json": {
       "model_id": "",
       "version_major": 2,
       "version_minor": 0
      },
      "text/plain": [
       "Shuffle Reduce 5:   0%|                                                                                       …"
      ]
     },
     "metadata": {},
     "output_type": "display_data"
    },
    {
     "data": {
      "application/vnd.jupyter.widget-view+json": {
       "model_id": "79d3cee0b4a04b2b83463f04084d3259",
       "version_major": 2,
       "version_minor": 0
      },
      "text/plain": [
       "Running 0:   0%|                                                                                              …"
      ]
     },
     "metadata": {},
     "output_type": "display_data"
    },
    {
     "data": {
      "application/vnd.jupyter.widget-view+json": {
       "model_id": "e87db1a9ded941ab829958808e87c5f4",
       "version_major": 2,
       "version_minor": 0
      },
      "text/plain": [
       "Sort Sample 0:   0%|                                                                                          …"
      ]
     },
     "metadata": {},
     "output_type": "display_data"
    },
    {
     "data": {
      "text/html": [
       "<div>\n",
       "<style scoped>\n",
       "    .dataframe tbody tr th:only-of-type {\n",
       "        vertical-align: middle;\n",
       "    }\n",
       "\n",
       "    .dataframe tbody tr th {\n",
       "        vertical-align: top;\n",
       "    }\n",
       "\n",
       "    .dataframe thead th {\n",
       "        text-align: right;\n",
       "    }\n",
       "</style>\n",
       "<table border=\"1\" class=\"dataframe\">\n",
       "  <thead>\n",
       "    <tr style=\"text-align: right;\">\n",
       "      <th></th>\n",
       "      <th>Entity</th>\n",
       "      <th>Sentiment</th>\n",
       "      <th>count()</th>\n",
       "    </tr>\n",
       "  </thead>\n",
       "  <tbody>\n",
       "    <tr>\n",
       "      <th>0</th>\n",
       "      <td>Amazon</td>\n",
       "      <td>Irrelevant</td>\n",
       "      <td>192</td>\n",
       "    </tr>\n",
       "    <tr>\n",
       "      <th>1</th>\n",
       "      <td>Amazon</td>\n",
       "      <td>Negative</td>\n",
       "      <td>576</td>\n",
       "    </tr>\n",
       "    <tr>\n",
       "      <th>2</th>\n",
       "      <td>Amazon</td>\n",
       "      <td>Neutral</td>\n",
       "      <td>1236</td>\n",
       "    </tr>\n",
       "    <tr>\n",
       "      <th>3</th>\n",
       "      <td>Amazon</td>\n",
       "      <td>Positive</td>\n",
       "      <td>312</td>\n",
       "    </tr>\n",
       "    <tr>\n",
       "      <th>4</th>\n",
       "      <td>ApexLegends</td>\n",
       "      <td>Irrelevant</td>\n",
       "      <td>192</td>\n",
       "    </tr>\n",
       "    <tr>\n",
       "      <th>...</th>\n",
       "      <td>...</td>\n",
       "      <td>...</td>\n",
       "      <td>...</td>\n",
       "    </tr>\n",
       "    <tr>\n",
       "      <th>123</th>\n",
       "      <td>Xbox(Xseries)</td>\n",
       "      <td>Positive</td>\n",
       "      <td>792</td>\n",
       "    </tr>\n",
       "    <tr>\n",
       "      <th>124</th>\n",
       "      <td>johnson&amp;johnson</td>\n",
       "      <td>Irrelevant</td>\n",
       "      <td>198</td>\n",
       "    </tr>\n",
       "    <tr>\n",
       "      <th>125</th>\n",
       "      <td>johnson&amp;johnson</td>\n",
       "      <td>Negative</td>\n",
       "      <td>846</td>\n",
       "    </tr>\n",
       "    <tr>\n",
       "      <th>126</th>\n",
       "      <td>johnson&amp;johnson</td>\n",
       "      <td>Neutral</td>\n",
       "      <td>1014</td>\n",
       "    </tr>\n",
       "    <tr>\n",
       "      <th>127</th>\n",
       "      <td>johnson&amp;johnson</td>\n",
       "      <td>Positive</td>\n",
       "      <td>270</td>\n",
       "    </tr>\n",
       "  </tbody>\n",
       "</table>\n",
       "<p>128 rows × 3 columns</p>\n",
       "</div>"
      ],
      "text/plain": [
       "              Entity   Sentiment  count()\n",
       "0             Amazon  Irrelevant      192\n",
       "1             Amazon    Negative      576\n",
       "2             Amazon     Neutral     1236\n",
       "3             Amazon    Positive      312\n",
       "4        ApexLegends  Irrelevant      192\n",
       "..               ...         ...      ...\n",
       "123    Xbox(Xseries)    Positive      792\n",
       "124  johnson&johnson  Irrelevant      198\n",
       "125  johnson&johnson    Negative      846\n",
       "126  johnson&johnson     Neutral     1014\n",
       "127  johnson&johnson    Positive      270\n",
       "\n",
       "[128 rows x 3 columns]"
      ]
     },
     "execution_count": 86,
     "metadata": {},
     "output_type": "execute_result"
    }
   ],
   "source": [
    "ds2.to_pandas()"
   ]
  },
  {
   "cell_type": "markdown",
   "id": "9c0e1736-18f6-466f-8b81-86a9e18fdeef",
   "metadata": {},
   "source": [
    "#### filter"
   ]
  },
  {
   "cell_type": "code",
   "execution_count": 87,
   "id": "c67150c2-b963-406a-8101-000d8b4322d4",
   "metadata": {},
   "outputs": [],
   "source": [
    "ds2 = ds_train.filter(lambda row:row['Entity']=='Nvidia')"
   ]
  },
  {
   "cell_type": "code",
   "execution_count": 88,
   "id": "6cb5d867-07ff-48df-a093-91491ad5e4e0",
   "metadata": {},
   "outputs": [
    {
     "name": "stderr",
     "output_type": "stream",
     "text": [
      "2024-05-28 16:01:39,331\tINFO streaming_executor.py:112 -- Starting execution of Dataset. Full logs are in /tmp/ray/session_2024-05-28_15-41-48_046565_26/logs/ray-data\n",
      "2024-05-28 16:01:39,332\tINFO streaming_executor.py:113 -- Execution plan of Dataset: InputDataBuffer[Input] -> TaskPoolMapOperator[ReadCSV] -> TaskPoolMapOperator[Filter(<lambda>)] -> LimitOperator[limit=5]\n"
     ]
    },
    {
     "data": {
      "application/vnd.jupyter.widget-view+json": {
       "model_id": "547787cab01f4bc395fb5c05b184e251",
       "version_major": 2,
       "version_minor": 0
      },
      "text/plain": [
       "- ReadCSV->SplitBlocks(16) 1:   0%|                                                                           …"
      ]
     },
     "metadata": {},
     "output_type": "display_data"
    },
    {
     "data": {
      "application/vnd.jupyter.widget-view+json": {
       "model_id": "81fe1d84a8134600a179971207ddbe8e",
       "version_major": 2,
       "version_minor": 0
      },
      "text/plain": [
       "- Filter(<lambda>) 2:   0%|                                                                                   …"
      ]
     },
     "metadata": {},
     "output_type": "display_data"
    },
    {
     "data": {
      "application/vnd.jupyter.widget-view+json": {
       "model_id": "58aac1e5e53e45369171f0c0c284a256",
       "version_major": 2,
       "version_minor": 0
      },
      "text/plain": [
       "- limit=5 3:   0%|                                                                                            …"
      ]
     },
     "metadata": {},
     "output_type": "display_data"
    },
    {
     "data": {
      "application/vnd.jupyter.widget-view+json": {
       "model_id": "6edc9e43b172477682ec2045c4d0e51d",
       "version_major": 2,
       "version_minor": 0
      },
      "text/plain": [
       "Running 0:   0%|                                                                                              …"
      ]
     },
     "metadata": {},
     "output_type": "display_data"
    },
    {
     "name": "stdout",
     "output_type": "stream",
     "text": [
      "{'TweetId': 8801, 'Entity': 'Nvidia', 'Sentiment': 'Neutral', 'TweetContent': 'Interesting NVIDIA=ARM. nvidianews.nvidia.com/news/nvidia-to…'}\n",
      "{'TweetId': 8801, 'Entity': 'Nvidia', 'Sentiment': 'Neutral', 'TweetContent': 'Interesting NVIDIA = ARM. nvidianews.nvidia.com / news / nvidia-to...'}\n",
      "{'TweetId': 8801, 'Entity': 'Nvidia', 'Sentiment': 'Neutral', 'TweetContent': 'Interesting NVIDIA = ARM. nvidianews.nvidia.com / news / nvidia-to...'}\n",
      "{'TweetId': 8801, 'Entity': 'Nvidia', 'Sentiment': 'Neutral', 'TweetContent': 'Interesting NVIDIA=ARM. news.nvidia.com/news/nvidia-to…'}\n",
      "{'TweetId': 8801, 'Entity': 'Nvidia', 'Sentiment': 'Neutral', 'TweetContent': 'Information Interesting for NVIDIA = via ARM. nvidianews. nvidia. About com / exclusive news / nvidia - to …'}\n"
     ]
    }
   ],
   "source": [
    "ds2.show(5)"
   ]
  },
  {
   "cell_type": "markdown",
   "id": "c2714364-f3e7-427f-91ad-c01dd7b25090",
   "metadata": {},
   "source": [
    "#### map\n",
    "Funkcja konwertuje pojedyncze wiersze"
   ]
  },
  {
   "cell_type": "code",
   "execution_count": 89,
   "id": "a63c7bcb-5bb3-4e6f-9214-db3c8ab9f4ee",
   "metadata": {},
   "outputs": [
    {
     "name": "stderr",
     "output_type": "stream",
     "text": [
      "2024-05-28 16:01:40,331\tINFO streaming_executor.py:112 -- Starting execution of Dataset. Full logs are in /tmp/ray/session_2024-05-28_15-41-48_046565_26/logs/ray-data\n",
      "2024-05-28 16:01:40,332\tINFO streaming_executor.py:113 -- Execution plan of Dataset: InputDataBuffer[Input] -> TaskPoolMapOperator[ReadCSV] -> TaskPoolMapOperator[Map(split_content)] -> LimitOperator[limit=10]\n"
     ]
    },
    {
     "data": {
      "application/vnd.jupyter.widget-view+json": {
       "model_id": "cb52ff724f53462c843025a22ed5a3bb",
       "version_major": 2,
       "version_minor": 0
      },
      "text/plain": [
       "- ReadCSV->SplitBlocks(16) 1:   0%|                                                                           …"
      ]
     },
     "metadata": {},
     "output_type": "display_data"
    },
    {
     "data": {
      "application/vnd.jupyter.widget-view+json": {
       "model_id": "239e7f4daf1448d1985e695df3d78727",
       "version_major": 2,
       "version_minor": 0
      },
      "text/plain": [
       "- Map(split_content) 2:   0%|                                                                                 …"
      ]
     },
     "metadata": {},
     "output_type": "display_data"
    },
    {
     "data": {
      "application/vnd.jupyter.widget-view+json": {
       "model_id": "5628593e5ce143dda1c476fb6ab07ede",
       "version_major": 2,
       "version_minor": 0
      },
      "text/plain": [
       "- limit=10 3:   0%|                                                                                           …"
      ]
     },
     "metadata": {},
     "output_type": "display_data"
    },
    {
     "data": {
      "application/vnd.jupyter.widget-view+json": {
       "model_id": "ecf0a432ea774f5d830aff4df6fe22a0",
       "version_major": 2,
       "version_minor": 0
      },
      "text/plain": [
       "Running 0:   0%|                                                                                              …"
      ]
     },
     "metadata": {},
     "output_type": "display_data"
    },
    {
     "name": "stdout",
     "output_type": "stream",
     "text": [
      "{'TweetId': 2401, 'Entity': 'Borderlands', 'Sentiment': 'Positive', 'TweetContent': 'im getting on borderlands and i will murder you all ,', 'words': ['im', 'getting', 'on', 'borderlands', 'and', 'i', 'will', 'murder', 'you', 'all', ',']}\n",
      "{'TweetId': 2401, 'Entity': 'Borderlands', 'Sentiment': 'Positive', 'TweetContent': 'I am coming to the borders and I will kill you all,', 'words': ['I', 'am', 'coming', 'to', 'the', 'borders', 'and', 'I', 'will', 'kill', 'you', 'all,']}\n",
      "{'TweetId': 2401, 'Entity': 'Borderlands', 'Sentiment': 'Positive', 'TweetContent': 'im getting on borderlands and i will kill you all,', 'words': ['im', 'getting', 'on', 'borderlands', 'and', 'i', 'will', 'kill', 'you', 'all,']}\n",
      "{'TweetId': 2401, 'Entity': 'Borderlands', 'Sentiment': 'Positive', 'TweetContent': 'im coming on borderlands and i will murder you all,', 'words': ['im', 'coming', 'on', 'borderlands', 'and', 'i', 'will', 'murder', 'you', 'all,']}\n",
      "{'TweetId': 2401, 'Entity': 'Borderlands', 'Sentiment': 'Positive', 'TweetContent': 'im getting on borderlands 2 and i will murder you me all,', 'words': ['im', 'getting', 'on', 'borderlands', '2', 'and', 'i', 'will', 'murder', 'you', 'me', 'all,']}\n",
      "{'TweetId': 2401, 'Entity': 'Borderlands', 'Sentiment': 'Positive', 'TweetContent': 'im getting into borderlands and i can murder you all,', 'words': ['im', 'getting', 'into', 'borderlands', 'and', 'i', 'can', 'murder', 'you', 'all,']}\n",
      "{'TweetId': 2402, 'Entity': 'Borderlands', 'Sentiment': 'Positive', 'TweetContent': \"So I spent a few hours making something for fun. . . If you don't know I am a HUGE @Borderlands fan and Maya is one of my favorite characters. So I decided to make myself a wallpaper for my PC. . Here is the original image versus the creation I made :) Enjoy! pic.twitter.com/mLsI5wf9Jg\", 'words': ['So', 'I', 'spent', 'a', 'few', 'hours', 'making', 'something', 'for', 'fun.', '.', '.', 'If', 'you', \"don't\", 'know', 'I', 'am', 'a', 'HUGE', '@Borderlands', 'fan', 'and', 'Maya', 'is', 'one', 'of', 'my', 'favorite', 'characters.', 'So', 'I', 'decided', 'to', 'make', 'myself', 'a', 'wallpaper', 'for', 'my', 'PC.', '.', 'Here', 'is', 'the', 'original', 'image', 'versus', 'the', 'creation', 'I', 'made', ':)', 'Enjoy!', 'pic.twitter.com/mLsI5wf9Jg']}\n",
      "{'TweetId': 2402, 'Entity': 'Borderlands', 'Sentiment': 'Positive', 'TweetContent': \"So I spent a couple of hours doing something for fun... If you don't know that I'm a huge @ Borderlands fan and Maya is one of my favorite characters, I decided to make a wallpaper for my PC.. Here's the original picture compared to the creation I made:) Have fun! pic.twitter.com / mLsI5wf9Jg\", 'words': ['So', 'I', 'spent', 'a', 'couple', 'of', 'hours', 'doing', 'something', 'for', 'fun...', 'If', 'you', \"don't\", 'know', 'that', \"I'm\", 'a', 'huge', '@', 'Borderlands', 'fan', 'and', 'Maya', 'is', 'one', 'of', 'my', 'favorite', 'characters,', 'I', 'decided', 'to', 'make', 'a', 'wallpaper', 'for', 'my', 'PC..', \"Here's\", 'the', 'original', 'picture', 'compared', 'to', 'the', 'creation', 'I', 'made:)', 'Have', 'fun!', 'pic.twitter.com', '/', 'mLsI5wf9Jg']}\n",
      "{'TweetId': 2402, 'Entity': 'Borderlands', 'Sentiment': 'Positive', 'TweetContent': \"So I spent a few hours doing something for fun... If you don't know I'm a HUGE @ Borderlands fan and Maya is one of my favorite characters.\", 'words': ['So', 'I', 'spent', 'a', 'few', 'hours', 'doing', 'something', 'for', 'fun...', 'If', 'you', \"don't\", 'know', \"I'm\", 'a', 'HUGE', '@', 'Borderlands', 'fan', 'and', 'Maya', 'is', 'one', 'of', 'my', 'favorite', 'characters.']}\n",
      "{'TweetId': 2402, 'Entity': 'Borderlands', 'Sentiment': 'Positive', 'TweetContent': \"So I spent a few hours making something for fun. . . If you don't know I am a HUGE RhandlerR fan and Maya is one of my favorite characters. So I decided to make myself a wallpaper for my PC. . Here is the original image versus the creation I made :) Enjoy! pic.twitter.com/mLsI5wf9Jg\", 'words': ['So', 'I', 'spent', 'a', 'few', 'hours', 'making', 'something', 'for', 'fun.', '.', '.', 'If', 'you', \"don't\", 'know', 'I', 'am', 'a', 'HUGE', 'RhandlerR', 'fan', 'and', 'Maya', 'is', 'one', 'of', 'my', 'favorite', 'characters.', 'So', 'I', 'decided', 'to', 'make', 'myself', 'a', 'wallpaper', 'for', 'my', 'PC.', '.', 'Here', 'is', 'the', 'original', 'image', 'versus', 'the', 'creation', 'I', 'made', ':)', 'Enjoy!', 'pic.twitter.com/mLsI5wf9Jg']}\n"
     ]
    }
   ],
   "source": [
    "def split_content(row):\n",
    "    row['words'] = row['TweetContent'].split()\n",
    "    return row\n",
    "    \n",
    "ds_train.map(split_content).show(10)"
   ]
  },
  {
   "cell_type": "markdown",
   "id": "bdcf656b-43f4-4fc4-88b7-a7ffcd709686",
   "metadata": {},
   "source": [
    "**TODO 4.1.1** \n",
    "* dodaj kolumnę ```word_count``` zawierającą liczbę słów w ```TweetContent```\n",
    "* zgrupuj po kolumnach ```Entity``` i ```Sentiment```\n",
    "* za pomocą ```sum(col_name)``` policz ile bylo słów we wpisach należących do danej grupy\n",
    "* wyświetl jako ```pandas.DataFrame```"
   ]
  },
  {
   "cell_type": "code",
   "execution_count": 94,
   "id": "0e61eaf9-2613-48a9-ad48-9d10ff2c9897",
   "metadata": {},
   "outputs": [
    {
     "data": {
      "text/html": [
       "<div>\n",
       "<style scoped>\n",
       "    .dataframe tbody tr th:only-of-type {\n",
       "        vertical-align: middle;\n",
       "    }\n",
       "\n",
       "    .dataframe tbody tr th {\n",
       "        vertical-align: top;\n",
       "    }\n",
       "\n",
       "    .dataframe thead th {\n",
       "        text-align: right;\n",
       "    }\n",
       "</style>\n",
       "<table border=\"1\" class=\"dataframe\">\n",
       "  <thead>\n",
       "    <tr style=\"text-align: right;\">\n",
       "      <th></th>\n",
       "      <th>TweetId</th>\n",
       "    </tr>\n",
       "    <tr>\n",
       "      <th>Sentiment</th>\n",
       "      <th></th>\n",
       "    </tr>\n",
       "  </thead>\n",
       "  <tbody>\n",
       "    <tr>\n",
       "      <th>Irrelevant</th>\n",
       "      <td>77014740</td>\n",
       "    </tr>\n",
       "    <tr>\n",
       "      <th>Negative</th>\n",
       "      <td>152389956</td>\n",
       "    </tr>\n",
       "    <tr>\n",
       "      <th>Neutral</th>\n",
       "      <td>118962054</td>\n",
       "    </tr>\n",
       "    <tr>\n",
       "      <th>Positive</th>\n",
       "      <td>132031650</td>\n",
       "    </tr>\n",
       "  </tbody>\n",
       "</table>\n",
       "</div>"
      ],
      "text/plain": [
       "              TweetId\n",
       "Sentiment            \n",
       "Irrelevant   77014740\n",
       "Negative    152389956\n",
       "Neutral     118962054\n",
       "Positive    132031650"
      ]
     },
     "execution_count": 94,
     "metadata": {},
     "output_type": "execute_result"
    }
   ],
   "source": [
    "def count_words(row):\n",
    "    row['word_count'] = len(row['TweetContent'].split())\n",
    "    \n",
    "    return row\n",
    "\n",
    "\n",
    "ds_train = ds_train.map(count_words)\n",
    "df_entity= df_train.groupby(df_train[\"Entity\"]).sum(\"word_count\")\n",
    "df_sentiment = df_train.groupby(df_train[\"Sentiment\"]).sum(\"word_count\")\n",
    "df_entity.head()\n",
    "df_sentiment.head()"
   ]
  },
  {
   "cell_type": "markdown",
   "id": "b2f1897d-c1cf-468c-91b3-88ff95ebf71a",
   "metadata": {},
   "source": [
    "#### flat_map\n",
    "Funkcja konweruje jeden wiersz na wiele wierszy (analogia do explode)"
   ]
  },
  {
   "cell_type": "code",
   "execution_count": 95,
   "id": "43ae6d60-9cb7-471c-bf77-6daae48f6dbf",
   "metadata": {},
   "outputs": [
    {
     "name": "stderr",
     "output_type": "stream",
     "text": [
      "2024-05-28 16:04:14,583\tINFO streaming_executor.py:112 -- Starting execution of Dataset. Full logs are in /tmp/ray/session_2024-05-28_15-41-48_046565_26/logs/ray-data\n",
      "2024-05-28 16:04:14,584\tINFO streaming_executor.py:113 -- Execution plan of Dataset: InputDataBuffer[Input] -> TaskPoolMapOperator[ReadCSV] -> TaskPoolMapOperator[Map(count_words)->Map(count_words)->Map(count_words)->Map(count_words)->Map(count_words)->FlatMap(explode_content)] -> LimitOperator[limit=10]\n"
     ]
    },
    {
     "data": {
      "application/vnd.jupyter.widget-view+json": {
       "model_id": "",
       "version_major": 2,
       "version_minor": 0
      },
      "text/plain": [
       "- ReadCSV->SplitBlocks(16) 1:   0%|                                                                           …"
      ]
     },
     "metadata": {},
     "output_type": "display_data"
    },
    {
     "data": {
      "application/vnd.jupyter.widget-view+json": {
       "model_id": "e71c19bedd0a45899ad7d34f5416b72a",
       "version_major": 2,
       "version_minor": 0
      },
      "text/plain": [
       "- Map(count_words)->Map(count_words)->Map(count_words)->Map(count_words)->Map(count_words)->FlatMap(explode_co…"
      ]
     },
     "metadata": {},
     "output_type": "display_data"
    },
    {
     "data": {
      "application/vnd.jupyter.widget-view+json": {
       "model_id": "a90772247869426ebb55ba7285390f61",
       "version_major": 2,
       "version_minor": 0
      },
      "text/plain": [
       "- limit=10 3:   0%|                                                                                           …"
      ]
     },
     "metadata": {},
     "output_type": "display_data"
    },
    {
     "data": {
      "application/vnd.jupyter.widget-view+json": {
       "model_id": "b40208de6e91452ba1fa28eb2f0c7264",
       "version_major": 2,
       "version_minor": 0
      },
      "text/plain": [
       "Running 0:   0%|                                                                                              …"
      ]
     },
     "metadata": {},
     "output_type": "display_data"
    },
    {
     "name": "stdout",
     "output_type": "stream",
     "text": [
      "{'word': 'im'}\n",
      "{'word': 'getting'}\n",
      "{'word': 'on'}\n",
      "{'word': 'borderlands'}\n",
      "{'word': 'and'}\n",
      "{'word': 'i'}\n",
      "{'word': 'will'}\n",
      "{'word': 'murder'}\n",
      "{'word': 'you'}\n",
      "{'word': 'all'}\n"
     ]
    }
   ],
   "source": [
    "def explode_content(row):\n",
    "    words = row['TweetContent'].split()\n",
    "    return [{'word':w} for w in words]\n",
    "\n",
    "ds_train.flat_map(explode_content).show(10)"
   ]
  },
  {
   "cell_type": "markdown",
   "id": "81eb0e98-b3fe-42e4-b455-4a923bb5c3b3",
   "metadata": {},
   "source": [
    "**TODO 4.1.2** Przepisz funckję ```explode_content()```\n",
    "\n",
    "W pętli po słowach:\n",
    "* utwórz kopię ```row```\n",
    "* dodaj słowo (w kolumnie ```word```)\n",
    "* dodaj zmodyfikowaną kopię do listy\n",
    "\n",
    "Zwróć listę"
   ]
  },
  {
   "cell_type": "code",
   "execution_count": 103,
   "id": "5cffbb36-7f90-4c3b-aa49-b1a383baefa9",
   "metadata": {},
   "outputs": [
    {
     "name": "stderr",
     "output_type": "stream",
     "text": [
      "2024-05-28 16:10:34,287\tINFO streaming_executor.py:112 -- Starting execution of Dataset. Full logs are in /tmp/ray/session_2024-05-28_15-41-48_046565_26/logs/ray-data\n",
      "2024-05-28 16:10:34,288\tINFO streaming_executor.py:113 -- Execution plan of Dataset: InputDataBuffer[Input] -> TaskPoolMapOperator[ReadCSV] -> TaskPoolMapOperator[Map(count_words)->Map(count_words)->Map(count_words)->Map(count_words)->Map(count_words)->FlatMap(explode_content)] -> LimitOperator[limit=10]\n"
     ]
    },
    {
     "data": {
      "application/vnd.jupyter.widget-view+json": {
       "model_id": "",
       "version_major": 2,
       "version_minor": 0
      },
      "text/plain": [
       "- ReadCSV->SplitBlocks(16) 1:   0%|                                                                           …"
      ]
     },
     "metadata": {},
     "output_type": "display_data"
    },
    {
     "data": {
      "application/vnd.jupyter.widget-view+json": {
       "model_id": "aed46f304055422aaea58dcabd964c58",
       "version_major": 2,
       "version_minor": 0
      },
      "text/plain": [
       "- Map(count_words)->Map(count_words)->Map(count_words)->Map(count_words)->Map(count_words)->FlatMap(explode_co…"
      ]
     },
     "metadata": {},
     "output_type": "display_data"
    },
    {
     "data": {
      "application/vnd.jupyter.widget-view+json": {
       "model_id": "f92e4fb28a0742968779d1c076aeb461",
       "version_major": 2,
       "version_minor": 0
      },
      "text/plain": [
       "- limit=10 3:   0%|                                                                                           …"
      ]
     },
     "metadata": {},
     "output_type": "display_data"
    },
    {
     "data": {
      "application/vnd.jupyter.widget-view+json": {
       "model_id": "0b1fa657dbb94e49a98cd714de4bc621",
       "version_major": 2,
       "version_minor": 0
      },
      "text/plain": [
       "Running 0:   0%|                                                                                              …"
      ]
     },
     "metadata": {},
     "output_type": "display_data"
    },
    {
     "name": "stdout",
     "output_type": "stream",
     "text": [
      "{'TweetId': 2401, 'Entity': 'Borderlands', 'Sentiment': 'Positive', 'TweetContent': 'im getting on borderlands and i will murder you all ,', 'word_count': 11, 'word': 'im'}\n",
      "{'TweetId': 2401, 'Entity': 'Borderlands', 'Sentiment': 'Positive', 'TweetContent': 'im getting on borderlands and i will murder you all ,', 'word_count': 11, 'word': 'getting'}\n",
      "{'TweetId': 2401, 'Entity': 'Borderlands', 'Sentiment': 'Positive', 'TweetContent': 'im getting on borderlands and i will murder you all ,', 'word_count': 11, 'word': 'on'}\n",
      "{'TweetId': 2401, 'Entity': 'Borderlands', 'Sentiment': 'Positive', 'TweetContent': 'im getting on borderlands and i will murder you all ,', 'word_count': 11, 'word': 'borderlands'}\n",
      "{'TweetId': 2401, 'Entity': 'Borderlands', 'Sentiment': 'Positive', 'TweetContent': 'im getting on borderlands and i will murder you all ,', 'word_count': 11, 'word': 'and'}\n",
      "{'TweetId': 2401, 'Entity': 'Borderlands', 'Sentiment': 'Positive', 'TweetContent': 'im getting on borderlands and i will murder you all ,', 'word_count': 11, 'word': 'i'}\n",
      "{'TweetId': 2401, 'Entity': 'Borderlands', 'Sentiment': 'Positive', 'TweetContent': 'im getting on borderlands and i will murder you all ,', 'word_count': 11, 'word': 'will'}\n",
      "{'TweetId': 2401, 'Entity': 'Borderlands', 'Sentiment': 'Positive', 'TweetContent': 'im getting on borderlands and i will murder you all ,', 'word_count': 11, 'word': 'murder'}\n",
      "{'TweetId': 2401, 'Entity': 'Borderlands', 'Sentiment': 'Positive', 'TweetContent': 'im getting on borderlands and i will murder you all ,', 'word_count': 11, 'word': 'you'}\n",
      "{'TweetId': 2401, 'Entity': 'Borderlands', 'Sentiment': 'Positive', 'TweetContent': 'im getting on borderlands and i will murder you all ,', 'word_count': 11, 'word': 'all'}\n"
     ]
    }
   ],
   "source": [
    "def explode_content(row):\n",
    "    \n",
    "    words = row['TweetContent'].split()\n",
    "    rows = []\n",
    "    for word in words:\n",
    "        row_copy = row.copy()\n",
    "        row_copy['word'] = word\n",
    "        rows.append(row_copy)\n",
    "        \n",
    "\n",
    "    return rows\n",
    "        \n",
    "        \n",
    "\n",
    "df_exp_train = ds_train.flat_map(explode_content)\n",
    "df_exp_train.show(10)"
   ]
  },
  {
   "cell_type": "markdown",
   "id": "9b98705a-930f-4a4e-9b35-d442d591a150",
   "metadata": {},
   "source": [
    "#### random_shuffle"
   ]
  },
  {
   "cell_type": "code",
   "execution_count": 104,
   "id": "4a511c56-4e34-423f-bef2-0d7ef599b8b2",
   "metadata": {},
   "outputs": [
    {
     "name": "stderr",
     "output_type": "stream",
     "text": [
      "2024-05-28 16:13:37,706\tINFO streaming_executor.py:112 -- Starting execution of Dataset. Full logs are in /tmp/ray/session_2024-05-28_15-41-48_046565_26/logs/ray-data\n",
      "2024-05-28 16:13:37,707\tINFO streaming_executor.py:113 -- Execution plan of Dataset: InputDataBuffer[Input] -> TaskPoolMapOperator[ReadCSV] -> AllToAllOperator[Map(count_words)->Map(count_words)->Map(count_words)->Map(count_words)->Map(count_words)->RandomShuffle]\n"
     ]
    },
    {
     "data": {
      "application/vnd.jupyter.widget-view+json": {
       "model_id": "",
       "version_major": 2,
       "version_minor": 0
      },
      "text/plain": [
       "- ReadCSV->SplitBlocks(16) 1:   0%|                                                                           …"
      ]
     },
     "metadata": {},
     "output_type": "display_data"
    },
    {
     "data": {
      "application/vnd.jupyter.widget-view+json": {
       "model_id": "334bb66b848f4321a9cfb892e10abf06",
       "version_major": 2,
       "version_minor": 0
      },
      "text/plain": [
       "- Map(count_words)->Map(count_words)->Map(count_words)->Map(count_words)->Map(count_words)->RandomShuffle 2:  …"
      ]
     },
     "metadata": {},
     "output_type": "display_data"
    },
    {
     "data": {
      "application/vnd.jupyter.widget-view+json": {
       "model_id": "",
       "version_major": 2,
       "version_minor": 0
      },
      "text/plain": [
       "Shuffle Map 3:   0%|                                                                                          …"
      ]
     },
     "metadata": {},
     "output_type": "display_data"
    },
    {
     "data": {
      "application/vnd.jupyter.widget-view+json": {
       "model_id": "",
       "version_major": 2,
       "version_minor": 0
      },
      "text/plain": [
       "Shuffle Reduce 4:   0%|                                                                                       …"
      ]
     },
     "metadata": {},
     "output_type": "display_data"
    },
    {
     "data": {
      "application/vnd.jupyter.widget-view+json": {
       "model_id": "ec2e99e6209443debdc3e5843b197671",
       "version_major": 2,
       "version_minor": 0
      },
      "text/plain": [
       "Running 0:   0%|                                                                                              …"
      ]
     },
     "metadata": {},
     "output_type": "display_data"
    },
    {
     "data": {
      "text/html": [
       "<div>\n",
       "<style scoped>\n",
       "    .dataframe tbody tr th:only-of-type {\n",
       "        vertical-align: middle;\n",
       "    }\n",
       "\n",
       "    .dataframe tbody tr th {\n",
       "        vertical-align: top;\n",
       "    }\n",
       "\n",
       "    .dataframe thead th {\n",
       "        text-align: right;\n",
       "    }\n",
       "</style>\n",
       "<table border=\"1\" class=\"dataframe\">\n",
       "  <thead>\n",
       "    <tr style=\"text-align: right;\">\n",
       "      <th></th>\n",
       "      <th>TweetId</th>\n",
       "      <th>Entity</th>\n",
       "      <th>Sentiment</th>\n",
       "      <th>TweetContent</th>\n",
       "      <th>word_count</th>\n",
       "    </tr>\n",
       "  </thead>\n",
       "  <tbody>\n",
       "    <tr>\n",
       "      <th>0</th>\n",
       "      <td>10742</td>\n",
       "      <td>RedDeadRedemption(RDR)</td>\n",
       "      <td>Negative</td>\n",
       "      <td>Red Dead Redeeming - With the Litter tch.tv / ...</td>\n",
       "      <td>10</td>\n",
       "    </tr>\n",
       "    <tr>\n",
       "      <th>1</th>\n",
       "      <td>9975</td>\n",
       "      <td>PlayStation5(PS5)</td>\n",
       "      <td>Positive</td>\n",
       "      <td>Groundbreaking</td>\n",
       "      <td>1</td>\n",
       "    </tr>\n",
       "    <tr>\n",
       "      <th>2</th>\n",
       "      <td>2092</td>\n",
       "      <td>CallOfDuty</td>\n",
       "      <td>Negative</td>\n",
       "      <td>Wow lodout now 10 grand hell @InfinityWard @Ac...</td>\n",
       "      <td>48</td>\n",
       "    </tr>\n",
       "    <tr>\n",
       "      <th>3</th>\n",
       "      <td>4720</td>\n",
       "      <td>Google</td>\n",
       "      <td>Negative</td>\n",
       "      <td>@JukinMedia youtube.com/watch?v=j5Ms4g… @mmoxr...</td>\n",
       "      <td>42</td>\n",
       "    </tr>\n",
       "    <tr>\n",
       "      <th>4</th>\n",
       "      <td>5902</td>\n",
       "      <td>HomeDepot</td>\n",
       "      <td>Positive</td>\n",
       "      <td>Got to hang out with 7001 Ellesmere Pro Team t...</td>\n",
       "      <td>29</td>\n",
       "    </tr>\n",
       "    <tr>\n",
       "      <th>...</th>\n",
       "      <td>...</td>\n",
       "      <td>...</td>\n",
       "      <td>...</td>\n",
       "      <td>...</td>\n",
       "      <td>...</td>\n",
       "    </tr>\n",
       "    <tr>\n",
       "      <th>74677</th>\n",
       "      <td>10262</td>\n",
       "      <td>PlayerUnknownsBattlegrounds(PUBG)</td>\n",
       "      <td>Irrelevant</td>\n",
       "      <td>xboxaimbot.com is the greatest site &lt;unk&gt; get ...</td>\n",
       "      <td>9</td>\n",
       "    </tr>\n",
       "    <tr>\n",
       "      <th>74678</th>\n",
       "      <td>11804</td>\n",
       "      <td>Verizon</td>\n",
       "      <td>Negative</td>\n",
       "      <td>@verizon your commercials include men who have...</td>\n",
       "      <td>18</td>\n",
       "    </tr>\n",
       "    <tr>\n",
       "      <th>74679</th>\n",
       "      <td>9710</td>\n",
       "      <td>PlayStation5(PS5)</td>\n",
       "      <td>Positive</td>\n",
       "      <td>This looks like writing a poster for a 90s act...</td>\n",
       "      <td>21</td>\n",
       "    </tr>\n",
       "    <tr>\n",
       "      <th>74680</th>\n",
       "      <td>4856</td>\n",
       "      <td>GrandTheftAuto(GTA)</td>\n",
       "      <td>Irrelevant</td>\n",
       "      <td>so yall wanna talk about “gaming culture” vs “...</td>\n",
       "      <td>49</td>\n",
       "    </tr>\n",
       "    <tr>\n",
       "      <th>74681</th>\n",
       "      <td>1934</td>\n",
       "      <td>CallOfDutyBlackopsColdWar</td>\n",
       "      <td>Negative</td>\n",
       "      <td>Fuck y from ’ all</td>\n",
       "      <td>5</td>\n",
       "    </tr>\n",
       "  </tbody>\n",
       "</table>\n",
       "<p>74682 rows × 5 columns</p>\n",
       "</div>"
      ],
      "text/plain": [
       "       TweetId                             Entity   Sentiment  \\\n",
       "0        10742             RedDeadRedemption(RDR)    Negative   \n",
       "1         9975                  PlayStation5(PS5)    Positive   \n",
       "2         2092                         CallOfDuty    Negative   \n",
       "3         4720                             Google    Negative   \n",
       "4         5902                          HomeDepot    Positive   \n",
       "...        ...                                ...         ...   \n",
       "74677    10262  PlayerUnknownsBattlegrounds(PUBG)  Irrelevant   \n",
       "74678    11804                            Verizon    Negative   \n",
       "74679     9710                  PlayStation5(PS5)    Positive   \n",
       "74680     4856                GrandTheftAuto(GTA)  Irrelevant   \n",
       "74681     1934          CallOfDutyBlackopsColdWar    Negative   \n",
       "\n",
       "                                            TweetContent  word_count  \n",
       "0      Red Dead Redeeming - With the Litter tch.tv / ...          10  \n",
       "1                                         Groundbreaking           1  \n",
       "2      Wow lodout now 10 grand hell @InfinityWard @Ac...          48  \n",
       "3      @JukinMedia youtube.com/watch?v=j5Ms4g… @mmoxr...          42  \n",
       "4      Got to hang out with 7001 Ellesmere Pro Team t...          29  \n",
       "...                                                  ...         ...  \n",
       "74677  xboxaimbot.com is the greatest site <unk> get ...           9  \n",
       "74678  @verizon your commercials include men who have...          18  \n",
       "74679  This looks like writing a poster for a 90s act...          21  \n",
       "74680  so yall wanna talk about “gaming culture” vs “...          49  \n",
       "74681                                  Fuck y from ’ all           5  \n",
       "\n",
       "[74682 rows x 5 columns]"
      ]
     },
     "execution_count": 104,
     "metadata": {},
     "output_type": "execute_result"
    }
   ],
   "source": [
    "ds_train.random_shuffle(seed=1).to_pandas()"
   ]
  },
  {
   "cell_type": "markdown",
   "id": "3f9d773a-7d20-4597-9e46-932c000e5f79",
   "metadata": {},
   "source": [
    "#### iteratory (w tym dzielące na wsady: batch)"
   ]
  },
  {
   "cell_type": "code",
   "execution_count": 105,
   "id": "39d656e8-2c9a-49e3-93ec-1af42f8de5d6",
   "metadata": {},
   "outputs": [
    {
     "name": "stderr",
     "output_type": "stream",
     "text": [
      "2024-05-28 16:13:50,243\tINFO streaming_executor.py:112 -- Starting execution of Dataset. Full logs are in /tmp/ray/session_2024-05-28_15-41-48_046565_26/logs/ray-data\n",
      "2024-05-28 16:13:50,245\tINFO streaming_executor.py:113 -- Execution plan of Dataset: InputDataBuffer[Input] -> TaskPoolMapOperator[ReadCSV] -> TaskPoolMapOperator[Map(count_words)->Map(count_words)->Map(count_words)->Map(count_words)->Map(count_words)]\n"
     ]
    },
    {
     "data": {
      "application/vnd.jupyter.widget-view+json": {
       "model_id": "",
       "version_major": 2,
       "version_minor": 0
      },
      "text/plain": [
       "- ReadCSV->SplitBlocks(16) 1:   0%|                                                                           …"
      ]
     },
     "metadata": {},
     "output_type": "display_data"
    },
    {
     "data": {
      "application/vnd.jupyter.widget-view+json": {
       "model_id": "ad6b4397e9f645139816a55a6e8da083",
       "version_major": 2,
       "version_minor": 0
      },
      "text/plain": [
       "- Map(count_words)->Map(count_words)->Map(count_words)->Map(count_words)->Map(count_words) 2:   0%|           …"
      ]
     },
     "metadata": {},
     "output_type": "display_data"
    },
    {
     "data": {
      "application/vnd.jupyter.widget-view+json": {
       "model_id": "f769a8d8fb634d5588c3e61b658102af",
       "version_major": 2,
       "version_minor": 0
      },
      "text/plain": [
       "Running 0:   0%|                                                                                              …"
      ]
     },
     "metadata": {},
     "output_type": "display_data"
    },
    {
     "name": "stdout",
     "output_type": "stream",
     "text": [
      "{'TweetId': 2401, 'Entity': 'Borderlands', 'Sentiment': 'Positive', 'TweetContent': 'im getting on borderlands and i will murder you all ,', 'word_count': 11}\n",
      "{'TweetId': 2401, 'Entity': 'Borderlands', 'Sentiment': 'Positive', 'TweetContent': 'I am coming to the borders and I will kill you all,', 'word_count': 12}\n",
      "{'TweetId': 2401, 'Entity': 'Borderlands', 'Sentiment': 'Positive', 'TweetContent': 'im getting on borderlands and i will kill you all,', 'word_count': 10}\n"
     ]
    }
   ],
   "source": [
    "for i,row in enumerate(ds_train.iter_rows()):\n",
    "    if i==3:\n",
    "        break\n",
    "    print(row)"
   ]
  },
  {
   "cell_type": "code",
   "execution_count": 106,
   "id": "eb72d87c-8090-43bf-b8e4-5359960ec85a",
   "metadata": {},
   "outputs": [
    {
     "name": "stderr",
     "output_type": "stream",
     "text": [
      "2024-05-28 16:13:51,734\tINFO streaming_executor.py:112 -- Starting execution of Dataset. Full logs are in /tmp/ray/session_2024-05-28_15-41-48_046565_26/logs/ray-data\n",
      "2024-05-28 16:13:51,736\tINFO streaming_executor.py:113 -- Execution plan of Dataset: InputDataBuffer[Input] -> TaskPoolMapOperator[ReadCSV] -> TaskPoolMapOperator[Map(count_words)->Map(count_words)->Map(count_words)->Map(count_words)->Map(count_words)]\n"
     ]
    },
    {
     "data": {
      "application/vnd.jupyter.widget-view+json": {
       "model_id": "",
       "version_major": 2,
       "version_minor": 0
      },
      "text/plain": [
       "- ReadCSV->SplitBlocks(16) 1:   0%|                                                                           …"
      ]
     },
     "metadata": {},
     "output_type": "display_data"
    },
    {
     "data": {
      "application/vnd.jupyter.widget-view+json": {
       "model_id": "3817552a8e124ab0a23a9822cdd5c2bc",
       "version_major": 2,
       "version_minor": 0
      },
      "text/plain": [
       "- Map(count_words)->Map(count_words)->Map(count_words)->Map(count_words)->Map(count_words) 2:   0%|           …"
      ]
     },
     "metadata": {},
     "output_type": "display_data"
    },
    {
     "data": {
      "application/vnd.jupyter.widget-view+json": {
       "model_id": "",
       "version_major": 2,
       "version_minor": 0
      },
      "text/plain": [
       "Running 0:   0%|                                                                                              …"
      ]
     },
     "metadata": {},
     "output_type": "display_data"
    },
    {
     "name": "stdout",
     "output_type": "stream",
     "text": [
      "-------------\n",
      "{'TweetId': array([2401, 2401]), 'Entity': array(['Borderlands', 'Borderlands'], dtype=object), 'Sentiment': array(['Positive', 'Positive'], dtype=object), 'TweetContent': array(['im getting on borderlands and i will murder you all ,',\n",
      "       'I am coming to the borders and I will kill you all,'],\n",
      "      dtype=object), 'word_count': array([11, 12])}\n",
      "-------------\n",
      "{'TweetId': array([2401, 2401]), 'Entity': array(['Borderlands', 'Borderlands'], dtype=object), 'Sentiment': array(['Positive', 'Positive'], dtype=object), 'TweetContent': array(['im getting on borderlands and i will kill you all,',\n",
      "       'im coming on borderlands and i will murder you all,'],\n",
      "      dtype=object), 'word_count': array([10, 10])}\n",
      "-------------\n",
      "{'TweetId': array([2401, 2401]), 'Entity': array(['Borderlands', 'Borderlands'], dtype=object), 'Sentiment': array(['Positive', 'Positive'], dtype=object), 'TweetContent': array(['im getting on borderlands 2 and i will murder you me all,',\n",
      "       'im getting into borderlands and i can murder you all,'],\n",
      "      dtype=object), 'word_count': array([12, 10])}\n"
     ]
    }
   ],
   "source": [
    "for i,row in enumerate(ds_train.iter_batches(batch_size=2)):\n",
    "    if i==3:\n",
    "        break\n",
    "    print('-------------')    \n",
    "    print(row)"
   ]
  },
  {
   "cell_type": "markdown",
   "id": "ed955448-1de1-438c-b0ac-54b738dc3e5d",
   "metadata": {},
   "source": [
    "## 5. Klasyfikacja"
   ]
  },
  {
   "cell_type": "markdown",
   "id": "b747e1f6-8eb3-4f21-ad84-a3ee973cf1b2",
   "metadata": {},
   "source": [
    "### 5.1 Metryki"
   ]
  },
  {
   "cell_type": "markdown",
   "id": "e68ebac1-4d7f-432b-9970-734686ea5a77",
   "metadata": {},
   "source": [
    "**TODO 5.1.1** napisz funkcję, która oblicza i zwraca metryki lub raport klasyfikacji"
   ]
  },
  {
   "cell_type": "code",
   "execution_count": 48,
   "id": "1414670c-635b-4cde-8cec-5d3b7dd2c92b",
   "metadata": {},
   "outputs": [],
   "source": [
    "from sklearn.metrics import accuracy_score, precision_score, recall_score, f1_score, confusion_matrix, classification_report\n",
    "\n",
    "@ray.remote\n",
    "def get_classification_results(y_true,y_pred,labels=None,return_scores=True):\n",
    "    \"\"\"\n",
    "    Funkcja oblicza wetryki klasyfikacji\n",
    "    Jeżeli return_scores==True funkcja zwraca słownik zawierający wartości accuracy, precision, recall (w wersji macro)\n",
    "    Jeżeli return_scores==False funcka zwraca tekst będący wynikiem wywołania classification_report (z etykietami klas)\n",
    "    \"\"\"\n",
    "    "
   ]
  },
  {
   "cell_type": "code",
   "execution_count": 49,
   "id": "483138ac-3ca6-41d3-9c1d-314881e12ba3",
   "metadata": {},
   "outputs": [
    {
     "data": {
      "text/plain": [
       "{'accuracy': 0.8333333333333334,\n",
       " 'precision': 0.8888888888888888,\n",
       " 'recall': 0.8333333333333334,\n",
       " 'f1': 0.8222222222222223}"
      ]
     },
     "execution_count": 49,
     "metadata": {},
     "output_type": "execute_result"
    }
   ],
   "source": [
    "results_ref = get_classification_results.remote([1,1,2,2,3,3],[1,1,2,1,3,3],labels=['a','b','c'])\n",
    "ray.get(results_ref)"
   ]
  },
  {
   "cell_type": "code",
   "execution_count": 50,
   "id": "f63c9523-1c6d-4034-96a8-f64c58dce857",
   "metadata": {},
   "outputs": [
    {
     "name": "stdout",
     "output_type": "stream",
     "text": [
      "              precision    recall  f1-score   support\n",
      "\n",
      "           a       0.67      1.00      0.80         2\n",
      "           b       1.00      0.50      0.67         2\n",
      "           c       1.00      1.00      1.00         2\n",
      "\n",
      "    accuracy                           0.83         6\n",
      "   macro avg       0.89      0.83      0.82         6\n",
      "weighted avg       0.89      0.83      0.82         6\n",
      "\n"
     ]
    }
   ],
   "source": [
    "results_ref = get_classification_results.remote([1,1,2,2,3,3],[1,1,2,1,3,3],labels=['a','b','c'],return_scores=False)\n",
    "print(ray.get(results_ref))"
   ]
  },
  {
   "cell_type": "markdown",
   "id": "ef0b746c-b0ee-4b7b-b4df-a3c3994a6bdd",
   "metadata": {},
   "source": [
    "### 5.2 train_and_test"
   ]
  },
  {
   "cell_type": "markdown",
   "id": "b1144589-e3ec-4598-8ff8-c22ffd46d47f",
   "metadata": {},
   "source": [
    "**TODO 5.2.1** Napisz funckję zgodnie ze specyfikacją"
   ]
  },
  {
   "cell_type": "code",
   "execution_count": 52,
   "id": "0cc16ad8-25e4-46a4-b16c-42d8cf0733bf",
   "metadata": {},
   "outputs": [],
   "source": [
    "from sklearn import preprocessing\n",
    "\n",
    "@ray.remote\n",
    "def train_and_test(df_train,df_test, model, features_column, target_column,return_scores=True):\n",
    "    \"\"\"\n",
    "    Funkcja (1) stosuje preprocessing.LabelEncoder() dla zbudowania wektorów liczbowych etykiet y_train oraz y_test\n",
    "    (2) przeprowadza uczenie modelu\n",
    "    (3) wyznacza wartości przewidywanych etykiet dla zbioru treningowego i testowego\n",
    "    (4) wyznacza metryki predykcji dla zbioru uczącego i testowego wywołując get_classification_results\n",
    "    \n",
    "    Params: df_train - zbiór treningowy\n",
    "            df_test  - zbiór testowy\n",
    "            model - model klasyfikatora (algorytm) \n",
    "            features_column - kolumna zawierająca cechy\n",
    "            target_column - kolumna z etykietami\n",
    "            return_scores - analogicznie, jak get_classification_results\n",
    "    Returns:\n",
    "            Słownik zawierający następujące elementy\n",
    "            * 'train' - metryki dla zbioru treningowego\n",
    "            * 'test' - metryki dla zbioru uczącego\n",
    "            * 'model' - wytrenowany model\n",
    "            * 'labels' - etykiety\n",
    "    \"\"\"\n",
    "    \n",
    "    \n"
   ]
  },
  {
   "cell_type": "markdown",
   "id": "64b75f75-2f3b-403f-960c-5d99204503fb",
   "metadata": {},
   "source": [
    "### 5.3 Wywołanie"
   ]
  },
  {
   "cell_type": "code",
   "execution_count": null,
   "id": "4751c9b0-534a-48c8-b152-00f088962b7f",
   "metadata": {},
   "outputs": [],
   "source": [
    "ds_train = ray.data.read_csv(\"twitter_training.csv\")\n",
    "ds_test = ray.data.read_csv(\"twitter_validation.csv\")\n",
    "df_train = ds_train.to_pandas()\n",
    "df_test = ds_test.to_pandas()\n",
    "df_train_ref = ray.put(df_train)\n",
    "df_test_ref = ray.put(df_test)"
   ]
  },
  {
   "cell_type": "markdown",
   "id": "ab3b78d2-8c27-4690-9a20-dc515fb90c18",
   "metadata": {},
   "source": [
    "**TODO 5.3.1** Wywołaj funkcję przekazując referencje do odpowiednich obiektów Ray"
   ]
  },
  {
   "cell_type": "code",
   "execution_count": 54,
   "id": "853a5521-e211-4e71-80a1-b1297e5555a3",
   "metadata": {},
   "outputs": [],
   "source": [
    "from sklearn.feature_extraction.text import CountVectorizer, TfidfVectorizer\n",
    "from sklearn.naive_bayes import MultinomialNB\n",
    "from sklearn.pipeline import Pipeline\n",
    "from sklearn.linear_model import SGDClassifier\n",
    "\n",
    "pipeline = Pipeline([('vect', CountVectorizer()), ('cls', MultinomialNB())])\n",
    "results_ref = train_and_test.remote(...)"
   ]
  },
  {
   "cell_type": "code",
   "execution_count": 55,
   "id": "86ec8008-0c05-41b5-8015-4a2beeb571e0",
   "metadata": {},
   "outputs": [],
   "source": [
    "results = ray.get(results_ref)"
   ]
  },
  {
   "cell_type": "code",
   "execution_count": 56,
   "id": "bce32b16-c4cf-458a-8a1c-c8750b539fac",
   "metadata": {},
   "outputs": [
    {
     "data": {
      "text/plain": [
       "{'accuracy': 0.7963766369406282,\n",
       " 'precision': 0.819132108265895,\n",
       " 'recall': 0.7831437089896423,\n",
       " 'f1': 0.7935849161197497}"
      ]
     },
     "execution_count": 56,
     "metadata": {},
     "output_type": "execute_result"
    }
   ],
   "source": [
    "ray.get(results['train'])"
   ]
  },
  {
   "cell_type": "code",
   "execution_count": 57,
   "id": "1f4cb56e-0416-4c46-ad37-39a8f9d67520",
   "metadata": {},
   "outputs": [
    {
     "data": {
      "text/plain": [
       "{'accuracy': 0.825,\n",
       " 'precision': 0.8389426103407482,\n",
       " 'recall': 0.8178315799363239,\n",
       " 'f1': 0.8230766650524841}"
      ]
     },
     "execution_count": 57,
     "metadata": {},
     "output_type": "execute_result"
    }
   ],
   "source": [
    "ray.get(results['test'])"
   ]
  },
  {
   "cell_type": "markdown",
   "id": "e01b28f6-8600-4097-a4e1-32180bb8ad1c",
   "metadata": {},
   "source": [
    "**TODO 5.3.2** Wywołaj funkcję dla innego klasyfikatora i odczytaj wyniki"
   ]
  },
  {
   "cell_type": "code",
   "execution_count": 58,
   "id": "83698d6d-561d-4366-b3a8-fa23f56a0290",
   "metadata": {},
   "outputs": [],
   "source": [
    "from sklearn.linear_model import SGDClassifier\n",
    "\n",
    "from sklearn.pipeline import Pipeline\n",
    "from sklearn.linear_model import SGDClassifier\n",
    "pipeline = Pipeline([('vect', CountVectorizer()), ('cls', SGDClassifier(loss='perceptron', penalty='l2', alpha=1e-3))])\n"
   ]
  },
  {
   "cell_type": "code",
   "execution_count": 59,
   "id": "ae2caae7-8900-4e13-89bf-b4be37648bcc",
   "metadata": {},
   "outputs": [],
   "source": [
    "results = "
   ]
  },
  {
   "cell_type": "code",
   "execution_count": 60,
   "id": "70087840-784d-4e7a-a6e0-f98deaef53be",
   "metadata": {},
   "outputs": [
    {
     "data": {
      "text/plain": [
       "{'accuracy': 0.8755925122519482,\n",
       " 'precision': 0.8795214429804623,\n",
       " 'recall': 0.8717285798167163,\n",
       " 'f1': 0.8747129005829772}"
      ]
     },
     "execution_count": 60,
     "metadata": {},
     "output_type": "execute_result"
    }
   ],
   "source": [
    "#train\n"
   ]
  },
  {
   "cell_type": "code",
   "execution_count": 61,
   "id": "447b7d3b-c474-4739-955c-eab251d0c478",
   "metadata": {},
   "outputs": [
    {
     "data": {
      "text/plain": [
       "{'accuracy': 0.927,\n",
       " 'precision': 0.9275372973059509,\n",
       " 'recall': 0.9260236372982662,\n",
       " 'f1': 0.9266962508727952}"
      ]
     },
     "execution_count": 61,
     "metadata": {},
     "output_type": "execute_result"
    }
   ],
   "source": [
    "# test"
   ]
  },
  {
   "cell_type": "markdown",
   "id": "4f8d68a1-96ff-4598-b2b4-4330e930d6f4",
   "metadata": {},
   "source": [
    "## 6. Walidacja krzyżowa"
   ]
  },
  {
   "cell_type": "markdown",
   "id": "7f500b08-bc42-4c1a-ab3e-e555042dc712",
   "metadata": {},
   "source": [
    "**TODO 6.1.1** Napisz funkcję zgodnie ze specyfikacją. \n",
    "\n",
    "Będzie realizowała pojedyncze zadanie wywoływane podczas walidacji krzyżowej (uczenie na k-1 podzbiorach, testowanie na jednym pozostawionym podzbiorze). \n",
    "* Te zadania można zrównoleglić.\n",
    "* Zbiór, na którym będzie wykonywana walidacja krzyżowa będzie obiektem\n",
    "* Zadania będą wywoływane z róznymi zestawami indeksów odpowiadającymi podziałowi na podzbiory (*ang. fold*) uzyte do budowy modelu i testowania"
   ]
  },
  {
   "cell_type": "code",
   "execution_count": 62,
   "id": "8edc7a3e-b838-48b5-994c-e7acb0fbf4b2",
   "metadata": {},
   "outputs": [],
   "source": [
    "@ray.remote\n",
    "def train_and_test_fold(df,train_indexes,test_indexes, model,features_column, target_column,return_scores=True):\n",
    "    \"\"\"\n",
    "    Funkcja\n",
    "    (1) dzieli zbiór na podzbiór dt_train treningowy i df_test testowy na podstawie indeksów wierszy \n",
    "    (2) stosuje preprocessing.LabelEncoder() dla zbudowania wektorów liczbowych etykiet y_train oraz y_test\n",
    "    (3) przeprowadza uczenie modelu\n",
    "    (4) wyznacza wartości przewidywanych etykiet dla zbioru treningowego i testowego\n",
    "    (5) wyznacza metryki predykcji dla zbioru uczącego i testowego wywołując get_classification_results\n",
    "    \n",
    "    Params: df - zbiór poddany walidacji krzyżowej \n",
    "            train_indexes - indeksy wierszy podzbioru treningowego (z \n",
    "            test_indexes  - indeksy wierszy podzbioru testowego\n",
    "            model - model klasyfikatora (algorytm) \n",
    "            features_column - kolumna zawierająca cechy\n",
    "            target_column - kolumna z etykietami\n",
    "            return_scores - analogicznie, jak get_classification_results\n",
    "    Returns:\n",
    "            Słownik zawierający następujące elementy\n",
    "            * 'train' - metryki dla zbioru treningowego\n",
    "            * 'test' - metryki dla zbioru uczącego\n",
    "            * 'model' - wytrenowany model\n",
    "            * 'labels' - etykiety\n",
    "    \"\"\"\n",
    "    \n",
    "    \n"
   ]
  },
  {
   "cell_type": "markdown",
   "id": "99aa6b8b-ab81-4dea-88c1-326fb33e32e7",
   "metadata": {},
   "source": [
    "Przykład funkcji realizującej walidację krzyzową ze stratyfikacją (podziałem zachowującym prawdopodobieństwo a-priori klas)"
   ]
  },
  {
   "cell_type": "code",
   "execution_count": 63,
   "id": "2d6c18db-3070-4385-9de1-ab3e30aafc87",
   "metadata": {},
   "outputs": [],
   "source": [
    "from sklearn.model_selection import StratifiedKFold\n",
    "from sklearn.base import clone\n",
    "\n",
    "@ray.remote\n",
    "def cross_validate_stratified(df,model, features_column, target_column ,n_splits=10):\n",
    "    skf = StratifiedKFold(n_splits=n_splits)\n",
    "    result_refs=[]\n",
    "    for i, (train_indexes, test_indexes) in enumerate(skf.split(df_train, df_train[target_column])):\n",
    "        result_refs.append(train_and_test_fold.remote(df_train,train_indexes, test_indexes,clone(model),features_column, target_column))\n",
    "    return result_refs"
   ]
  },
  {
   "cell_type": "markdown",
   "id": "210361bf-a7a0-482f-b813-0e85c398b2ba",
   "metadata": {},
   "source": [
    "**TODO 6.1.2** napisz analogiczną funkcję bez startyfikacji, posługująca się klasa ```KFold```"
   ]
  },
  {
   "cell_type": "code",
   "execution_count": 64,
   "id": "84e49a14-8e52-4226-98a5-eea804060dda",
   "metadata": {},
   "outputs": [],
   "source": [
    "from sklearn.model_selection import KFold\n",
    "from sklearn.base import clone\n",
    "\n",
    "\n"
   ]
  },
  {
   "cell_type": "code",
   "execution_count": 65,
   "id": "bfb962b4-95cf-4c13-a956-5a7473fe9b8b",
   "metadata": {},
   "outputs": [],
   "source": [
    "pipeline = Pipeline([('vect', CountVectorizer()), ('cls', SGDClassifier(loss='perceptron', penalty='l2', alpha=1e-3))])\n",
    "results_ref = cross_validate_stratified.remote(df_train_ref, \n",
    "                                    pipeline,\n",
    "                                    features_column='TweetContent', target_column='Sentiment')"
   ]
  },
  {
   "cell_type": "markdown",
   "id": "9153dc6b-c085-45cb-8f7f-e490f6b04a4f",
   "metadata": {},
   "source": [
    "**TODO 6.1.3** Odczytaj wyniki"
   ]
  },
  {
   "cell_type": "code",
   "execution_count": 66,
   "id": "11eeb9ce-bced-4d65-ad1b-08f656d564a7",
   "metadata": {},
   "outputs": [],
   "source": []
  },
  {
   "cell_type": "code",
   "execution_count": 69,
   "id": "6ddf9ab8-b65f-484a-825f-ca72d401bde2",
   "metadata": {},
   "outputs": [
    {
     "name": "stdout",
     "output_type": "stream",
     "text": [
      "train {'accuracy': 0.8898278606817134, 'precision': 0.8911304883297855, 'recall': 0.8878996366869284, 'f1': 0.8893661435433775}\n",
      "test {'accuracy': 0.4360690855536216, 'precision': 0.42994047046660894, 'recall': 0.42466689688440096, 'f1': 0.42178545226434544}\n",
      "train {'accuracy': 0.8911520092839182, 'precision': 0.8924257876098458, 'recall': 0.8912117934523252, 'f1': 0.8912208667927195}\n",
      "test {'accuracy': 0.4228142991029589, 'precision': 0.426252405163982, 'recall': 0.4103779190427649, 'f1': 0.41028188947474686}\n",
      "train {'accuracy': 0.8937870086589104, 'precision': 0.8977167796557702, 'recall': 0.89076967062012, 'f1': 0.8935159011064373}\n",
      "test {'accuracy': 0.3532404927691484, 'precision': 0.33984564821632757, 'recall': 0.3366352761281294, 'f1': 0.33013953693547415}\n",
      "train {'accuracy': 0.8949772368851727, 'precision': 0.895520122130066, 'recall': 0.8931773460174912, 'f1': 0.894197958714404}\n",
      "test {'accuracy': 0.3445366898768077, 'precision': 0.33308059797699024, 'recall': 0.33383837420343015, 'f1': 0.3330688680074996}\n",
      "train {'accuracy': 0.8921653227006279, 'precision': 0.8956181012802865, 'recall': 0.8887180021114672, 'f1': 0.8915846331291639}\n",
      "test {'accuracy': 0.3552490626673808, 'precision': 0.34038127541135926, 'recall': 0.347075101944846, 'f1': 0.34153199254980543}\n",
      "train {'accuracy': 0.891272651530931, 'precision': 0.8908445980136728, 'recall': 0.889122702977622, 'f1': 0.889852662217735}\n",
      "test {'accuracy': 0.23754686663095875, 'precision': 0.24056744087589135, 'recall': 0.2325731545537444, 'f1': 0.23471978810339056}\n",
      "train {'accuracy': 0.8837444579998215, 'precision': 0.8816226320105689, 'recall': 0.8782965319961837, 'f1': 0.8797615981776002}\n",
      "test {'accuracy': 0.22308516336368506, 'precision': 0.20488019890860068, 'recall': 0.20937961270906552, 'f1': 0.20142007422028466}\n",
      "train {'accuracy': 0.8958699080548695, 'precision': 0.8947946208204551, 'recall': 0.8933623292192856, 'f1': 0.8939662025737164}\n",
      "test {'accuracy': 0.3119978575254419, 'precision': 0.30070736351527466, 'recall': 0.29664775324461456, 'f1': 0.29673382839740364}\n",
      "train {'accuracy': 0.8917041092629512, 'precision': 0.8964998043015644, 'recall': 0.8889389471015396, 'f1': 0.8917679585119419}\n",
      "test {'accuracy': 0.3675682913765399, 'precision': 0.35954591183070717, 'recall': 0.3423205359340863, 'f1': 0.33160942450735365}\n",
      "train {'accuracy': 0.8972684262207278, 'precision': 0.9024938708046633, 'recall': 0.8935532460505857, 'f1': 0.8970626139920865}\n",
      "test {'accuracy': 0.41322978039635777, 'precision': 0.38952443307310114, 'recall': 0.3895257307074975, 'f1': 0.3854413939496998}\n"
     ]
    }
   ],
   "source": []
  },
  {
   "cell_type": "markdown",
   "id": "66e2af05-37d6-4558-89e9-ccebad5755f9",
   "metadata": {},
   "source": [
    "**TODO 6.1.4** Wywołaj funkcję ```cross_validate()``` i odczytaj wyniki"
   ]
  },
  {
   "cell_type": "code",
   "execution_count": 70,
   "id": "bfd08e80-b16a-485c-841e-73e7c8708783",
   "metadata": {},
   "outputs": [],
   "source": [
    "pipeline = Pipeline([('vect', CountVectorizer()), ('cls', SGDClassifier(loss='perceptron', penalty='l2', alpha=1e-3))])\n",
    "results_ref = cross_validate.remote(...)"
   ]
  },
  {
   "cell_type": "code",
   "execution_count": null,
   "id": "19cdfb4f-6b2c-4c92-97fb-32349dc7c516",
   "metadata": {},
   "outputs": [],
   "source": []
  },
  {
   "cell_type": "code",
   "execution_count": 73,
   "id": "180d82eb-b90b-41cc-b256-379b323da0c6",
   "metadata": {},
   "outputs": [
    {
     "name": "stdout",
     "output_type": "stream",
     "text": [
      "train {'accuracy': 0.8846949250888965, 'precision': 0.8846290605183472, 'recall': 0.8828872550602964, 'f1': 0.883727923907619}\n",
      "test {'accuracy': 0.820591779354666, 'precision': 0.8188360732382993, 'recall': 0.8174282900994183, 'f1': 0.8180580391116251}\n",
      "train {'accuracy': 0.8583756118608007, 'precision': 0.8651693393852057, 'recall': 0.8542518808883283, 'f1': 0.8580901349317475}\n",
      "test {'accuracy': 0.8017137501673585, 'precision': 0.8079829294537665, 'recall': 0.7984933794779632, 'f1': 0.8010541446732996}\n",
      "train {'accuracy': 0.8842056714374982, 'precision': 0.8880867467548912, 'recall': 0.8801254121207385, 'f1': 0.8835736347351826}\n",
      "test {'accuracy': 0.8237814675950723, 'precision': 0.825617786981492, 'recall': 0.8182157297863012, 'f1': 0.8209939372929492}\n",
      "train {'accuracy': 0.8872109977088106, 'precision': 0.8874969448649753, 'recall': 0.8859597363666855, 'f1': 0.8862495566373111}\n",
      "test {'accuracy': 0.8319496518478843, 'precision': 0.8322173412011109, 'recall': 0.8304338894393799, 'f1': 0.8306049187519489}\n",
      "train {'accuracy': 0.8726753354955813, 'precision': 0.8686804557515146, 'recall': 0.870867922755022, 'f1': 0.8693394099114702}\n",
      "test {'accuracy': 0.8152115693626139, 'precision': 0.8087246205102852, 'recall': 0.8116313878939628, 'f1': 0.8091056302162278}\n",
      "train {'accuracy': 0.8834766566489124, 'precision': 0.8835629073507902, 'recall': 0.8821125722861631, 'f1': 0.8824215204938932}\n",
      "test {'accuracy': 0.8239153722549545, 'precision': 0.820882845256225, 'recall': 0.8184120573057232, 'f1': 0.8191075103599776}\n",
      "train {'accuracy': 0.8710685273901271, 'precision': 0.8712378194300132, 'recall': 0.8715026126816812, 'f1': 0.8703102623631516}\n",
      "test {'accuracy': 0.8128012854847348, 'precision': 0.8118252809172324, 'recall': 0.8118194752362231, 'f1': 0.8104735186927741}\n",
      "train {'accuracy': 0.8837295801469932, 'precision': 0.8880895024635189, 'recall': 0.879335848077537, 'f1': 0.8827944490859502}\n",
      "test {'accuracy': 0.8196304231387253, 'precision': 0.8253943365051223, 'recall': 0.8117961277344077, 'f1': 0.8164995492972975}\n",
      "train {'accuracy': 0.8808432766983069, 'precision': 0.881413110865165, 'recall': 0.8791535569661157, 'f1': 0.8801041994367756}\n",
      "test {'accuracy': 0.8142742367434387, 'precision': 0.8126192619835066, 'recall': 0.8119598300840067, 'f1': 0.8120232896776338}\n",
      "train {'accuracy': 0.8857083345731545, 'precision': 0.8837552474586025, 'recall': 0.8855953411485685, 'f1': 0.8843673996098713}\n",
      "test {'accuracy': 0.8193626138189609, 'precision': 0.8155687818480672, 'recall': 0.8190913729864198, 'f1': 0.8169212083997269}\n"
     ]
    }
   ],
   "source": []
  },
  {
   "cell_type": "markdown",
   "id": "602872ef-49ab-47d3-a300-409f6c8a84b7",
   "metadata": {},
   "source": [
    "## 7. Modele dla Entity "
   ]
  },
  {
   "cell_type": "markdown",
   "id": "10e02a08-619f-4a21-a2cd-8f44ca1aff1b",
   "metadata": {},
   "source": [
    "Spróbujemy zbudować indywidaualne klasyfikatory dla ocenianych obiektów *Entity*"
   ]
  },
  {
   "cell_type": "code",
   "execution_count": 74,
   "id": "426ccba3-9155-44a2-ba7f-fd852194a9b4",
   "metadata": {},
   "outputs": [
    {
     "data": {
      "text/plain": [
       "array(['Borderlands', 'CallOfDutyBlackopsColdWar', 'Amazon', 'Overwatch',\n",
       "       'Xbox(Xseries)', 'NBA2K', 'Dota2', 'PlayStation5(PS5)',\n",
       "       'WorldOfCraft', 'CS-GO', 'Google', 'AssassinsCreed', 'ApexLegends',\n",
       "       'LeagueOfLegends', 'Fortnite', 'Microsoft', 'Hearthstone',\n",
       "       'Battlefield', 'PlayerUnknownsBattlegrounds(PUBG)', 'Verizon',\n",
       "       'HomeDepot', 'FIFA', 'RedDeadRedemption(RDR)', 'CallOfDuty',\n",
       "       'TomClancysRainbowSix', 'Facebook', 'GrandTheftAuto(GTA)',\n",
       "       'MaddenNFL', 'johnson&johnson', 'Cyberpunk2077',\n",
       "       'TomClancysGhostRecon', 'Nvidia'], dtype=object)"
      ]
     },
     "execution_count": 74,
     "metadata": {},
     "output_type": "execute_result"
    }
   ],
   "source": [
    "df_train.Entity.unique()"
   ]
  },
  {
   "cell_type": "markdown",
   "id": "8f1f3e6f-b53f-4425-a123-d71aac59ba1e",
   "metadata": {},
   "source": [
    "**TODO 7.1.1** W petli po podzbiorach danych:\n",
    "* utwórz Pipeline\n",
    "* wywołaj funkcję ```train_and_test()```\n",
    "* umieść wyniki (classification_report) w słowniku konwerując nazwę obiektu na małe litery\n",
    "* wyświetl wyniki dla testów"
   ]
  },
  {
   "cell_type": "code",
   "execution_count": 75,
   "id": "1aa41759-87ae-49fb-a632-cda70c951b97",
   "metadata": {},
   "outputs": [],
   "source": [
    "from sklearn.feature_extraction.text import CountVectorizer, TfidfVectorizer\n",
    "from sklearn.naive_bayes import MultinomialNB\n",
    "from sklearn.pipeline import Pipeline\n",
    "from sklearn.linear_model import SGDClassifier\n",
    "\n",
    "results={}    \n",
    "for ent in df_train.Entity.unique():\n",
    "    ..."
   ]
  },
  {
   "cell_type": "code",
   "execution_count": 76,
   "id": "8b050145-7392-4b2a-ac40-7f400e8b5613",
   "metadata": {},
   "outputs": [
    {
     "name": "stdout",
     "output_type": "stream",
     "text": [
      "-------------- borderlands ------------\n",
      "              precision    recall  f1-score   support\n",
      "\n",
      "  Irrelevant       1.00      0.97      0.98       240\n",
      "    Negative       1.00      0.97      0.98       426\n",
      "     Neutral       0.98      0.97      0.98       600\n",
      "    Positive       0.97      1.00      0.98      1020\n",
      "\n",
      "    accuracy                           0.98      2286\n",
      "   macro avg       0.99      0.98      0.98      2286\n",
      "weighted avg       0.98      0.98      0.98      2286\n",
      "\n",
      "-------------- callofdutyblackopscoldwar ------------\n",
      "              precision    recall  f1-score   support\n",
      "\n",
      "  Irrelevant       0.91      0.97      0.94       576\n",
      "    Negative       0.98      0.95      0.97       576\n",
      "     Neutral       0.99      0.93      0.96       360\n",
      "    Positive       0.98      0.98      0.98       864\n",
      "\n",
      "    accuracy                           0.96      2376\n",
      "   macro avg       0.96      0.96      0.96      2376\n",
      "weighted avg       0.96      0.96      0.96      2376\n",
      "\n",
      "-------------- amazon ------------\n",
      "              precision    recall  f1-score   support\n",
      "\n",
      "  Irrelevant       0.95      0.95      0.95       192\n",
      "    Negative       1.00      0.99      0.99       576\n",
      "     Neutral       0.98      0.99      0.99      1236\n",
      "    Positive       1.00      0.97      0.98       312\n",
      "\n",
      "    accuracy                           0.98      2316\n",
      "   macro avg       0.98      0.97      0.98      2316\n",
      "weighted avg       0.98      0.98      0.98      2316\n",
      "\n",
      "-------------- overwatch ------------\n",
      "              precision    recall  f1-score   support\n",
      "\n",
      "  Irrelevant       1.00      0.97      0.98       672\n",
      "    Negative       0.92      1.00      0.96       630\n",
      "     Neutral       0.99      0.93      0.96       300\n",
      "    Positive       0.99      0.97      0.98       732\n",
      "\n",
      "    accuracy                           0.97      2334\n",
      "   macro avg       0.97      0.97      0.97      2334\n",
      "weighted avg       0.97      0.97      0.97      2334\n",
      "\n",
      "-------------- xbox(xseries) ------------\n",
      "              precision    recall  f1-score   support\n",
      "\n",
      "  Irrelevant       0.95      0.97      0.96       750\n",
      "    Negative       0.99      0.97      0.98       378\n",
      "     Neutral       1.00      0.97      0.99       414\n",
      "    Positive       0.97      0.98      0.98       792\n",
      "\n",
      "    accuracy                           0.97      2334\n",
      "   macro avg       0.98      0.97      0.98      2334\n",
      "weighted avg       0.97      0.97      0.97      2334\n",
      "\n",
      "-------------- nba2k ------------\n",
      "              precision    recall  f1-score   support\n",
      "\n",
      "  Irrelevant       1.00      0.98      0.99       180\n",
      "    Negative       0.99      0.98      0.99      1476\n",
      "     Neutral       1.00      0.95      0.97       270\n",
      "    Positive       0.92      0.99      0.96       426\n",
      "\n",
      "    accuracy                           0.98      2352\n",
      "   macro avg       0.98      0.98      0.98      2352\n",
      "weighted avg       0.98      0.98      0.98      2352\n",
      "\n",
      "-------------- dota2 ------------\n",
      "              precision    recall  f1-score   support\n",
      "\n",
      "  Irrelevant       1.00      0.99      0.99       426\n",
      "    Negative       0.99      0.98      0.99       768\n",
      "     Neutral       1.00      0.99      0.99       588\n",
      "    Positive       0.97      1.00      0.98       582\n",
      "\n",
      "    accuracy                           0.99      2364\n",
      "   macro avg       0.99      0.99      0.99      2364\n",
      "weighted avg       0.99      0.99      0.99      2364\n",
      "\n",
      "-------------- playstation5(ps5) ------------\n",
      "              precision    recall  f1-score   support\n",
      "\n",
      "  Irrelevant       1.00      0.97      0.98       396\n",
      "    Negative       0.98      0.96      0.97       456\n",
      "     Neutral       0.99      0.93      0.96       516\n",
      "    Positive       0.94      0.99      0.97       942\n",
      "\n",
      "    accuracy                           0.97      2310\n",
      "   macro avg       0.98      0.96      0.97      2310\n",
      "weighted avg       0.97      0.97      0.97      2310\n",
      "\n",
      "-------------- worldofcraft ------------\n",
      "              precision    recall  f1-score   support\n",
      "\n",
      "  Irrelevant       1.00      0.99      1.00       216\n",
      "    Negative       1.00      0.96      0.98       342\n",
      "     Neutral       0.99      1.00      0.99      1068\n",
      "    Positive       0.99      0.99      0.99       738\n",
      "\n",
      "    accuracy                           0.99      2364\n",
      "   macro avg       0.99      0.99      0.99      2364\n",
      "weighted avg       0.99      0.99      0.99      2364\n",
      "\n",
      "-------------- cs-go ------------\n",
      "              precision    recall  f1-score   support\n",
      "\n",
      "  Irrelevant       1.00      0.97      0.98       636\n",
      "    Negative       1.00      0.95      0.97       348\n",
      "     Neutral       0.98      0.96      0.97       552\n",
      "    Positive       0.93      0.99      0.96       768\n",
      "\n",
      "    accuracy                           0.97      2304\n",
      "   macro avg       0.98      0.97      0.97      2304\n",
      "weighted avg       0.97      0.97      0.97      2304\n",
      "\n",
      "-------------- google ------------\n",
      "              precision    recall  f1-score   support\n",
      "\n",
      "  Irrelevant       0.99      0.96      0.98       522\n",
      "    Negative       1.00      0.98      0.99       594\n",
      "     Neutral       0.95      1.00      0.97       822\n",
      "    Positive       1.00      0.96      0.98       360\n",
      "\n",
      "    accuracy                           0.98      2298\n",
      "   macro avg       0.99      0.98      0.98      2298\n",
      "weighted avg       0.98      0.98      0.98      2298\n",
      "\n",
      "-------------- assassinscreed ------------\n",
      "              precision    recall  f1-score   support\n",
      "\n",
      "  Irrelevant       1.00      0.99      0.99       264\n",
      "    Negative       1.00      0.97      0.99       378\n",
      "     Neutral       1.00      0.98      0.99       156\n",
      "    Positive       0.99      1.00      0.99      1446\n",
      "\n",
      "    accuracy                           0.99      2244\n",
      "   macro avg       1.00      0.99      0.99      2244\n",
      "weighted avg       0.99      0.99      0.99      2244\n",
      "\n",
      "-------------- apexlegends ------------\n",
      "              precision    recall  f1-score   support\n",
      "\n",
      "  Irrelevant       0.99      0.99      0.99       192\n",
      "    Negative       1.00      0.94      0.97       600\n",
      "     Neutral       0.95      0.99      0.97       942\n",
      "    Positive       0.97      0.97      0.97       642\n",
      "\n",
      "    accuracy                           0.97      2376\n",
      "   macro avg       0.98      0.97      0.98      2376\n",
      "weighted avg       0.97      0.97      0.97      2376\n",
      "\n",
      "-------------- leagueoflegends ------------\n",
      "              precision    recall  f1-score   support\n",
      "\n",
      "  Irrelevant       1.00      0.98      0.99       312\n",
      "    Negative       0.98      0.96      0.97       642\n",
      "     Neutral       0.95      0.99      0.97       822\n",
      "    Positive       0.99      0.97      0.98       618\n",
      "\n",
      "    accuracy                           0.98      2394\n",
      "   macro avg       0.98      0.97      0.98      2394\n",
      "weighted avg       0.98      0.98      0.98      2394\n",
      "\n",
      "-------------- fortnite ------------\n",
      "              precision    recall  f1-score   support\n",
      "\n",
      "  Irrelevant       0.99      0.98      0.99       840\n",
      "    Negative       0.99      0.97      0.98       702\n",
      "     Neutral       1.00      0.91      0.95       168\n",
      "    Positive       0.93      0.99      0.96       564\n",
      "\n",
      "    accuracy                           0.98      2274\n",
      "   macro avg       0.98      0.97      0.97      2274\n",
      "weighted avg       0.98      0.98      0.98      2274\n",
      "\n",
      "-------------- microsoft ------------\n",
      "              precision    recall  f1-score   support\n",
      "\n",
      "  Irrelevant       0.92      0.95      0.93       174\n",
      "    Negative       0.99      0.96      0.98       774\n",
      "     Neutral       0.96      0.98      0.97       846\n",
      "    Positive       0.98      0.98      0.98       606\n",
      "\n",
      "    accuracy                           0.97      2400\n",
      "   macro avg       0.96      0.97      0.96      2400\n",
      "weighted avg       0.97      0.97      0.97      2400\n",
      "\n",
      "-------------- hearthstone ------------\n",
      "              precision    recall  f1-score   support\n",
      "\n",
      "  Irrelevant       1.00      0.97      0.99       228\n",
      "    Negative       0.99      0.98      0.99       528\n",
      "     Neutral       0.99      0.96      0.97       708\n",
      "    Positive       0.96      0.99      0.97       834\n",
      "\n",
      "    accuracy                           0.98      2298\n",
      "   macro avg       0.98      0.98      0.98      2298\n",
      "weighted avg       0.98      0.98      0.98      2298\n",
      "\n",
      "-------------- battlefield ------------\n",
      "              precision    recall  f1-score   support\n",
      "\n",
      "  Irrelevant       1.00      0.98      0.99       918\n",
      "    Negative       0.99      0.96      0.97       474\n",
      "     Neutral       0.99      0.94      0.96       360\n",
      "    Positive       0.92      0.99      0.96       594\n",
      "\n",
      "    accuracy                           0.97      2346\n",
      "   macro avg       0.97      0.97      0.97      2346\n",
      "weighted avg       0.98      0.97      0.97      2346\n",
      "\n",
      "-------------- playerunknownsbattlegrounds(pubg) ------------\n",
      "              precision    recall  f1-score   support\n",
      "\n",
      "  Irrelevant       0.96      0.97      0.96       906\n",
      "    Negative       0.93      0.97      0.95       696\n",
      "     Neutral       1.00      0.95      0.97       264\n",
      "    Positive       1.00      0.92      0.96       408\n",
      "\n",
      "    accuracy                           0.96      2274\n",
      "   macro avg       0.97      0.95      0.96      2274\n",
      "weighted avg       0.96      0.96      0.96      2274\n",
      "\n",
      "-------------- verizon ------------\n",
      "              precision    recall  f1-score   support\n",
      "\n",
      "  Irrelevant       0.99      0.94      0.96       186\n",
      "    Negative       0.97      0.99      0.98      1098\n",
      "     Neutral       0.98      0.98      0.98       570\n",
      "    Positive       0.99      0.98      0.99       528\n",
      "\n",
      "    accuracy                           0.98      2382\n",
      "   macro avg       0.98      0.97      0.98      2382\n",
      "weighted avg       0.98      0.98      0.98      2382\n",
      "\n",
      "-------------- homedepot ------------\n",
      "              precision    recall  f1-score   support\n",
      "\n",
      "  Irrelevant       1.00      0.99      0.99       294\n",
      "    Negative       0.99      0.98      0.98       900\n",
      "     Neutral       1.00      0.97      0.98       336\n",
      "    Positive       0.96      0.99      0.98       780\n",
      "\n",
      "    accuracy                           0.98      2310\n",
      "   macro avg       0.99      0.98      0.98      2310\n",
      "weighted avg       0.98      0.98      0.98      2310\n",
      "\n",
      "-------------- fifa ------------\n",
      "              precision    recall  f1-score   support\n",
      "\n",
      "  Irrelevant       1.00      0.99      0.99       558\n",
      "    Negative       0.97      1.00      0.98      1176\n",
      "     Neutral       1.00      0.95      0.97       102\n",
      "    Positive       1.00      0.95      0.97       504\n",
      "\n",
      "    accuracy                           0.98      2340\n",
      "   macro avg       0.99      0.97      0.98      2340\n",
      "weighted avg       0.98      0.98      0.98      2340\n",
      "\n",
      "-------------- reddeadredemption(rdr) ------------\n",
      "              precision    recall  f1-score   support\n",
      "\n",
      "  Irrelevant       1.00      0.98      0.99       210\n",
      "    Negative       1.00      0.98      0.99       306\n",
      "     Neutral       0.97      0.99      0.98       816\n",
      "    Positive       0.99      0.98      0.98       930\n",
      "\n",
      "    accuracy                           0.98      2262\n",
      "   macro avg       0.99      0.98      0.99      2262\n",
      "weighted avg       0.99      0.98      0.98      2262\n",
      "\n",
      "-------------- callofduty ------------\n",
      "              precision    recall  f1-score   support\n",
      "\n",
      "  Irrelevant       1.00      0.99      0.99       672\n",
      "    Negative       0.97      0.99      0.98       894\n",
      "     Neutral       1.00      0.95      0.97       378\n",
      "    Positive       0.96      0.97      0.97       450\n",
      "\n",
      "    accuracy                           0.98      2394\n",
      "   macro avg       0.98      0.97      0.98      2394\n",
      "weighted avg       0.98      0.98      0.98      2394\n",
      "\n",
      "-------------- tomclancysrainbowsix ------------\n",
      "              precision    recall  f1-score   support\n",
      "\n",
      "  Irrelevant       0.90      0.98      0.94        96\n",
      "    Negative       1.00      0.96      0.98      1122\n",
      "     Neutral       0.95      0.96      0.95       654\n",
      "    Positive       0.93      0.97      0.95       528\n",
      "\n",
      "    accuracy                           0.96      2400\n",
      "   macro avg       0.94      0.97      0.95      2400\n",
      "weighted avg       0.96      0.96      0.96      2400\n",
      "\n",
      "-------------- facebook ------------\n",
      "              precision    recall  f1-score   support\n",
      "\n",
      "  Irrelevant       0.94      0.99      0.97       690\n",
      "    Negative       0.99      0.98      0.98       720\n",
      "     Neutral       1.00      0.98      0.99       786\n",
      "    Positive       1.00      0.91      0.95       174\n",
      "\n",
      "    accuracy                           0.98      2370\n",
      "   macro avg       0.98      0.97      0.97      2370\n",
      "weighted avg       0.98      0.98      0.98      2370\n",
      "\n",
      "-------------- grandtheftauto(gta) ------------\n",
      "              precision    recall  f1-score   support\n",
      "\n",
      "  Irrelevant       1.00      0.98      0.99       762\n",
      "    Negative       1.00      0.98      0.99       594\n",
      "     Neutral       0.93      0.99      0.96       324\n",
      "    Positive       0.99      0.98      0.98       624\n",
      "\n",
      "    accuracy                           0.98      2304\n",
      "   macro avg       0.98      0.99      0.98      2304\n",
      "weighted avg       0.99      0.98      0.98      2304\n",
      "\n",
      "-------------- maddennfl ------------\n",
      "              precision    recall  f1-score   support\n",
      "\n",
      "  Irrelevant       1.00      0.99      0.99        90\n",
      "    Negative       0.99      1.00      0.99      1710\n",
      "     Neutral       0.97      0.92      0.94       204\n",
      "    Positive       0.99      0.99      0.99       396\n",
      "\n",
      "    accuracy                           0.99      2400\n",
      "   macro avg       0.99      0.97      0.98      2400\n",
      "weighted avg       0.99      0.99      0.99      2400\n",
      "\n",
      "-------------- johnson&johnson ------------\n",
      "              precision    recall  f1-score   support\n",
      "\n",
      "  Irrelevant       1.00      0.98      0.99       198\n",
      "    Negative       0.96      1.00      0.98       846\n",
      "     Neutral       1.00      0.98      0.99      1014\n",
      "    Positive       1.00      0.97      0.98       270\n",
      "\n",
      "    accuracy                           0.98      2328\n",
      "   macro avg       0.99      0.98      0.99      2328\n",
      "weighted avg       0.99      0.98      0.99      2328\n",
      "\n",
      "-------------- cyberpunk2077 ------------\n",
      "              precision    recall  f1-score   support\n",
      "\n",
      "  Irrelevant       0.98      0.93      0.96       480\n",
      "    Negative       1.00      0.96      0.98       390\n",
      "     Neutral       1.00      0.97      0.98       468\n",
      "    Positive       0.94      1.00      0.97       966\n",
      "\n",
      "    accuracy                           0.97      2304\n",
      "   macro avg       0.98      0.96      0.97      2304\n",
      "weighted avg       0.97      0.97      0.97      2304\n",
      "\n",
      "-------------- tomclancysghostrecon ------------\n",
      "              precision    recall  f1-score   support\n",
      "\n",
      "  Irrelevant       1.00      1.00      1.00        24\n",
      "    Negative       0.99      0.97      0.98       900\n",
      "     Neutral       0.96      0.99      0.98       804\n",
      "    Positive       0.99      0.98      0.99       618\n",
      "\n",
      "    accuracy                           0.98      2346\n",
      "   macro avg       0.99      0.99      0.99      2346\n",
      "weighted avg       0.98      0.98      0.98      2346\n",
      "\n",
      "-------------- nvidia ------------\n",
      "              precision    recall  f1-score   support\n",
      "\n",
      "  Irrelevant       1.00      0.99      0.99        90\n",
      "    Negative       0.99      0.96      0.97       522\n",
      "     Neutral       1.00      0.98      0.99       870\n",
      "    Positive       0.95      1.00      0.97       816\n",
      "\n",
      "    accuracy                           0.98      2298\n",
      "   macro avg       0.98      0.98      0.98      2298\n",
      "weighted avg       0.98      0.98      0.98      2298\n",
      "\n"
     ]
    }
   ],
   "source": [
    "for k in results:\n",
    "    print(f'-------------- {k} ------------')\n",
    "    ..."
   ]
  },
  {
   "cell_type": "markdown",
   "id": "b421421f-f3b2-4846-a360-daa8f8e715d5",
   "metadata": {},
   "source": [
    "**TODO 7.1.2** Doaj jeszcze do słownika wyniki dla pełnego zbioru (pod kluczem ```*```)"
   ]
  },
  {
   "cell_type": "code",
   "execution_count": 77,
   "id": "66cc32b5-243a-4a2c-9516-d02cb51cefc4",
   "metadata": {},
   "outputs": [],
   "source": [
    "pipeline = Pipeline([('vect', CountVectorizer()), ('cls', SGDClassifier(loss='perceptron', penalty='l2', alpha=1e-3))])\n",
    "results['*'] = train_and_test.remote(df_train,df_test,pipeline,features_column='TweetContent', target_column='Sentiment', return_scores=False)"
   ]
  },
  {
   "cell_type": "markdown",
   "id": "7d4201b5-848c-4114-bd09-caeb9eaec7a7",
   "metadata": {},
   "source": [
    "**TODO 7.1.3** Wyekstrahuj z rezuultatów dwa słowniki: ```models```  z modelami oraz ```labels``` z etykietami.\n",
    "\n",
    "Etykiety występują zawsze w tej samej kolejności, ale to specyfika zbioru danych. Gdyby zastosować permutację, przed uczeniem, kolejność byłaby inna, więc *better save than sorry...*"
   ]
  },
  {
   "cell_type": "code",
   "execution_count": 78,
   "id": "4955f9e6-090d-4397-bdba-2056e850cd42",
   "metadata": {},
   "outputs": [
    {
     "data": {
      "text/plain": [
       "{'borderlands': Pipeline(steps=[('vect', CountVectorizer()),\n",
       "                 ('cls', SGDClassifier(alpha=0.001, loss='perceptron'))]),\n",
       " 'callofdutyblackopscoldwar': Pipeline(steps=[('vect', CountVectorizer()),\n",
       "                 ('cls', SGDClassifier(alpha=0.001, loss='perceptron'))]),\n",
       " 'amazon': Pipeline(steps=[('vect', CountVectorizer()),\n",
       "                 ('cls', SGDClassifier(alpha=0.001, loss='perceptron'))]),\n",
       " 'overwatch': Pipeline(steps=[('vect', CountVectorizer()),\n",
       "                 ('cls', SGDClassifier(alpha=0.001, loss='perceptron'))]),\n",
       " 'xbox(xseries)': Pipeline(steps=[('vect', CountVectorizer()),\n",
       "                 ('cls', SGDClassifier(alpha=0.001, loss='perceptron'))]),\n",
       " 'nba2k': Pipeline(steps=[('vect', CountVectorizer()),\n",
       "                 ('cls', SGDClassifier(alpha=0.001, loss='perceptron'))]),\n",
       " 'dota2': Pipeline(steps=[('vect', CountVectorizer()),\n",
       "                 ('cls', SGDClassifier(alpha=0.001, loss='perceptron'))]),\n",
       " 'playstation5(ps5)': Pipeline(steps=[('vect', CountVectorizer()),\n",
       "                 ('cls', SGDClassifier(alpha=0.001, loss='perceptron'))]),\n",
       " 'worldofcraft': Pipeline(steps=[('vect', CountVectorizer()),\n",
       "                 ('cls', SGDClassifier(alpha=0.001, loss='perceptron'))]),\n",
       " 'cs-go': Pipeline(steps=[('vect', CountVectorizer()),\n",
       "                 ('cls', SGDClassifier(alpha=0.001, loss='perceptron'))]),\n",
       " 'google': Pipeline(steps=[('vect', CountVectorizer()),\n",
       "                 ('cls', SGDClassifier(alpha=0.001, loss='perceptron'))]),\n",
       " 'assassinscreed': Pipeline(steps=[('vect', CountVectorizer()),\n",
       "                 ('cls', SGDClassifier(alpha=0.001, loss='perceptron'))]),\n",
       " 'apexlegends': Pipeline(steps=[('vect', CountVectorizer()),\n",
       "                 ('cls', SGDClassifier(alpha=0.001, loss='perceptron'))]),\n",
       " 'leagueoflegends': Pipeline(steps=[('vect', CountVectorizer()),\n",
       "                 ('cls', SGDClassifier(alpha=0.001, loss='perceptron'))]),\n",
       " 'fortnite': Pipeline(steps=[('vect', CountVectorizer()),\n",
       "                 ('cls', SGDClassifier(alpha=0.001, loss='perceptron'))]),\n",
       " 'microsoft': Pipeline(steps=[('vect', CountVectorizer()),\n",
       "                 ('cls', SGDClassifier(alpha=0.001, loss='perceptron'))]),\n",
       " 'hearthstone': Pipeline(steps=[('vect', CountVectorizer()),\n",
       "                 ('cls', SGDClassifier(alpha=0.001, loss='perceptron'))]),\n",
       " 'battlefield': Pipeline(steps=[('vect', CountVectorizer()),\n",
       "                 ('cls', SGDClassifier(alpha=0.001, loss='perceptron'))]),\n",
       " 'playerunknownsbattlegrounds(pubg)': Pipeline(steps=[('vect', CountVectorizer()),\n",
       "                 ('cls', SGDClassifier(alpha=0.001, loss='perceptron'))]),\n",
       " 'verizon': Pipeline(steps=[('vect', CountVectorizer()),\n",
       "                 ('cls', SGDClassifier(alpha=0.001, loss='perceptron'))]),\n",
       " 'homedepot': Pipeline(steps=[('vect', CountVectorizer()),\n",
       "                 ('cls', SGDClassifier(alpha=0.001, loss='perceptron'))]),\n",
       " 'fifa': Pipeline(steps=[('vect', CountVectorizer()),\n",
       "                 ('cls', SGDClassifier(alpha=0.001, loss='perceptron'))]),\n",
       " 'reddeadredemption(rdr)': Pipeline(steps=[('vect', CountVectorizer()),\n",
       "                 ('cls', SGDClassifier(alpha=0.001, loss='perceptron'))]),\n",
       " 'callofduty': Pipeline(steps=[('vect', CountVectorizer()),\n",
       "                 ('cls', SGDClassifier(alpha=0.001, loss='perceptron'))]),\n",
       " 'tomclancysrainbowsix': Pipeline(steps=[('vect', CountVectorizer()),\n",
       "                 ('cls', SGDClassifier(alpha=0.001, loss='perceptron'))]),\n",
       " 'facebook': Pipeline(steps=[('vect', CountVectorizer()),\n",
       "                 ('cls', SGDClassifier(alpha=0.001, loss='perceptron'))]),\n",
       " 'grandtheftauto(gta)': Pipeline(steps=[('vect', CountVectorizer()),\n",
       "                 ('cls', SGDClassifier(alpha=0.001, loss='perceptron'))]),\n",
       " 'maddennfl': Pipeline(steps=[('vect', CountVectorizer()),\n",
       "                 ('cls', SGDClassifier(alpha=0.001, loss='perceptron'))]),\n",
       " 'johnson&johnson': Pipeline(steps=[('vect', CountVectorizer()),\n",
       "                 ('cls', SGDClassifier(alpha=0.001, loss='perceptron'))]),\n",
       " 'cyberpunk2077': Pipeline(steps=[('vect', CountVectorizer()),\n",
       "                 ('cls', SGDClassifier(alpha=0.001, loss='perceptron'))]),\n",
       " 'tomclancysghostrecon': Pipeline(steps=[('vect', CountVectorizer()),\n",
       "                 ('cls', SGDClassifier(alpha=0.001, loss='perceptron'))]),\n",
       " 'nvidia': Pipeline(steps=[('vect', CountVectorizer()),\n",
       "                 ('cls', SGDClassifier(alpha=0.001, loss='perceptron'))]),\n",
       " '*': Pipeline(steps=[('vect', CountVectorizer()),\n",
       "                 ('cls', SGDClassifier(alpha=0.001, loss='perceptron'))])}"
      ]
     },
     "execution_count": 78,
     "metadata": {},
     "output_type": "execute_result"
    }
   ],
   "source": [
    "models = ???\n",
    "models"
   ]
  },
  {
   "cell_type": "code",
   "execution_count": 79,
   "id": "c64be41e-6eef-469b-92be-4b75e82c2cf3",
   "metadata": {},
   "outputs": [
    {
     "data": {
      "text/plain": [
       "{'borderlands': array(['Irrelevant', 'Negative', 'Neutral', 'Positive'], dtype=object),\n",
       " 'callofdutyblackopscoldwar': array(['Irrelevant', 'Negative', 'Neutral', 'Positive'], dtype=object),\n",
       " 'amazon': array(['Irrelevant', 'Negative', 'Neutral', 'Positive'], dtype=object),\n",
       " 'overwatch': array(['Irrelevant', 'Negative', 'Neutral', 'Positive'], dtype=object),\n",
       " 'xbox(xseries)': array(['Irrelevant', 'Negative', 'Neutral', 'Positive'], dtype=object),\n",
       " 'nba2k': array(['Irrelevant', 'Negative', 'Neutral', 'Positive'], dtype=object),\n",
       " 'dota2': array(['Irrelevant', 'Negative', 'Neutral', 'Positive'], dtype=object),\n",
       " 'playstation5(ps5)': array(['Irrelevant', 'Negative', 'Neutral', 'Positive'], dtype=object),\n",
       " 'worldofcraft': array(['Irrelevant', 'Negative', 'Neutral', 'Positive'], dtype=object),\n",
       " 'cs-go': array(['Irrelevant', 'Negative', 'Neutral', 'Positive'], dtype=object),\n",
       " 'google': array(['Irrelevant', 'Negative', 'Neutral', 'Positive'], dtype=object),\n",
       " 'assassinscreed': array(['Irrelevant', 'Negative', 'Neutral', 'Positive'], dtype=object),\n",
       " 'apexlegends': array(['Irrelevant', 'Negative', 'Neutral', 'Positive'], dtype=object),\n",
       " 'leagueoflegends': array(['Irrelevant', 'Negative', 'Neutral', 'Positive'], dtype=object),\n",
       " 'fortnite': array(['Irrelevant', 'Negative', 'Neutral', 'Positive'], dtype=object),\n",
       " 'microsoft': array(['Irrelevant', 'Negative', 'Neutral', 'Positive'], dtype=object),\n",
       " 'hearthstone': array(['Irrelevant', 'Negative', 'Neutral', 'Positive'], dtype=object),\n",
       " 'battlefield': array(['Irrelevant', 'Negative', 'Neutral', 'Positive'], dtype=object),\n",
       " 'playerunknownsbattlegrounds(pubg)': array(['Irrelevant', 'Negative', 'Neutral', 'Positive'], dtype=object),\n",
       " 'verizon': array(['Irrelevant', 'Negative', 'Neutral', 'Positive'], dtype=object),\n",
       " 'homedepot': array(['Irrelevant', 'Negative', 'Neutral', 'Positive'], dtype=object),\n",
       " 'fifa': array(['Irrelevant', 'Negative', 'Neutral', 'Positive'], dtype=object),\n",
       " 'reddeadredemption(rdr)': array(['Irrelevant', 'Negative', 'Neutral', 'Positive'], dtype=object),\n",
       " 'callofduty': array(['Irrelevant', 'Negative', 'Neutral', 'Positive'], dtype=object),\n",
       " 'tomclancysrainbowsix': array(['Irrelevant', 'Negative', 'Neutral', 'Positive'], dtype=object),\n",
       " 'facebook': array(['Irrelevant', 'Negative', 'Neutral', 'Positive'], dtype=object),\n",
       " 'grandtheftauto(gta)': array(['Irrelevant', 'Negative', 'Neutral', 'Positive'], dtype=object),\n",
       " 'maddennfl': array(['Irrelevant', 'Negative', 'Neutral', 'Positive'], dtype=object),\n",
       " 'johnson&johnson': array(['Irrelevant', 'Negative', 'Neutral', 'Positive'], dtype=object),\n",
       " 'cyberpunk2077': array(['Irrelevant', 'Negative', 'Neutral', 'Positive'], dtype=object),\n",
       " 'tomclancysghostrecon': array(['Irrelevant', 'Negative', 'Neutral', 'Positive'], dtype=object),\n",
       " 'nvidia': array(['Irrelevant', 'Negative', 'Neutral', 'Positive'], dtype=object),\n",
       " '*': array(['Irrelevant', 'Negative', 'Neutral', 'Positive'], dtype=object)}"
      ]
     },
     "execution_count": 79,
     "metadata": {},
     "output_type": "execute_result"
    }
   ],
   "source": [
    "labels = ???\n",
    "labels"
   ]
  },
  {
   "cell_type": "markdown",
   "id": "a623d3b1-1a40-4ec8-91be-043bda1dbc4a",
   "metadata": {},
   "source": [
    "Poniższa funkcja dokonuje klasyfikacji tekstu dla danego typu obiektu (entity). Jesli nie zostanie znaleziony, stosuje klucz ```*```\n",
    "\n",
    "Wypróbuj jej działanie wpisując rózne wartości..."
   ]
  },
  {
   "cell_type": "code",
   "execution_count": 80,
   "id": "833e7adf-a226-4683-864b-0771c35c5ae3",
   "metadata": {},
   "outputs": [
    {
     "data": {
      "text/plain": [
       "'Irrelevant'"
      ]
     },
     "execution_count": 80,
     "metadata": {},
     "output_type": "execute_result"
    }
   ],
   "source": [
    "def classify(models,labels,ent,text):\n",
    "    k = ent.lower()\n",
    "    if not k in models:\n",
    "        k = '*'\n",
    "    y_pred =  models[k].predict([text])\n",
    "    return labels[k][y_pred[0]]\n",
    "    \n",
    "classify(models,labels,'*','low energy card')"
   ]
  },
  {
   "cell_type": "code",
   "execution_count": 81,
   "id": "3fdb88cd-741c-44ca-b383-fadc6f375d0a",
   "metadata": {},
   "outputs": [
    {
     "data": {
      "text/plain": [
       "'Positive'"
      ]
     },
     "execution_count": 81,
     "metadata": {},
     "output_type": "execute_result"
    }
   ],
   "source": [
    "classify(models,labels,'nvidia','low energy card')"
   ]
  },
  {
   "cell_type": "markdown",
   "id": "8120d9dc-ddb1-42a1-8e5e-e01a9b993e68",
   "metadata": {},
   "source": [
    "## 8. Ray serve"
   ]
  },
  {
   "cell_type": "markdown",
   "id": "1feb4bd8-0280-4072-8ee8-bf24c0b06b8f",
   "metadata": {},
   "source": [
    "Ray Serve to framework do zarządzania mikrousługami, który został stworzony na platformie Ray. Pozwala on na łatwe tworzenie, wdrażanie i skalowanie aplikacji opartych na mikrousługach. \n",
    "\n",
    "Cechy:\n",
    "\n",
    "* **Prostota użycia:** Ray Serve zapewnia proste API do definiowania i wdrażania mikrousług. Programiści mogą definiować obsługę żądań za pomocą zwykłych funkcji Pythona.\n",
    "* **Elastyczność i skalowalność:** Ray Serve automatycznie zarządza skalowaniem i równoważeniem obciążenia mikrousług, co umożliwia obsługę wysokiego obciążenia aplikacji.\n",
    "* **Obsługa wielu typów modeli:** Ray Serve obsługuje wiele rodzajów modeli, w tym modele oparte na frameworkach uczenia maszynowego, takich jak TensorFlow, PyTorch czy Scikit-learn.\n",
    "* **Obsługa wielu typów interfejsów:** Obsługuje różne interfejsy API, takie jak REST, gRPC, HTTP oraz in-memory Python API, co umożliwia łatwe integrowanie z różnymi typami aplikacji.\n",
    "* **Rozproszenie i równoległość:** Dzięki wykorzystaniu platformy Ray, Ray Serve oferuje wbudowane wsparcie dla równoległego przetwarzania i rozproszenia, co pozwala na obsługę wysokich obciążeń i dużych ilości danych."
   ]
  },
  {
   "cell_type": "code",
   "execution_count": 82,
   "id": "9844ba67-0d88-4125-9d06-ac309e258da3",
   "metadata": {},
   "outputs": [],
   "source": [
    "from ray import serve\n",
    "# serve.shutdown()\n",
    "serve.start(http_options={'host':'0.0.0.0','port':8000})"
   ]
  },
  {
   "cell_type": "markdown",
   "id": "4eee970f-a985-45e6-af89-c76bdd3b273e",
   "metadata": {},
   "source": [
    "### 8.1 Przykład wdrożenia mikrousługi"
   ]
  },
  {
   "cell_type": "markdown",
   "id": "5049413a-a204-4d30-bd17-7c041b0da15f",
   "metadata": {},
   "source": [
    "Pokazemy prosty przykład usług REST. Dzięki (opcjonalnej) integracji z FastApi możliwe będzie wywołanie poprzez interfejs *Swagger*"
   ]
  },
  {
   "cell_type": "code",
   "execution_count": null,
   "id": "1dc335bb-1478-488d-b17c-60a6fe1adcad",
   "metadata": {},
   "outputs": [],
   "source": [
    "import requests\n",
    "from fastapi import FastAPI\n",
    "from ray import serve\n",
    "# import uvicorn\n",
    "\n",
    "# 1: Define a FastAPI app and wrap it in a deployment with a route handler.\n",
    "app = FastAPI()\n",
    "\n",
    "\n",
    "@serve.deployment\n",
    "@serve.ingress(app)\n",
    "class FastAPIDeployment:\n",
    "    # FastAPI will automatically parse the HTTP request for us.\n",
    "    @app.get(\"/hello\")\n",
    "    def say_hello(self, firstname: str, surname: str) -> str:\n",
    "        return f\"Hello {firstname} {surname}!\"\n",
    "\n",
    "\n",
    "# 2: Deploy the deployment.\n",
    "# serve.shutdown()\n",
    "# serve.start(http_options={'host':'0.0.0.0','port':8000})\n",
    "serve.run(FastAPIDeployment.bind(), route_prefix=\"/\")\n",
    "\n",
    "# otwórz http://localhost:8000/docs"
   ]
  },
  {
   "cell_type": "code",
   "execution_count": null,
   "id": "0ab9afeb-5167-4527-8b0a-c85625b79157",
   "metadata": {},
   "outputs": [],
   "source": [
    "print(requests.get(\"http://0.0.0.0:8000/hello\", params={\"firstname\": \"Jan\",'surname':'Kowalski'}).text)"
   ]
  },
  {
   "attachments": {
    "1b5ffc35-24bc-4e4e-ae8a-6a3e8c56a6d6.png": {
     "image/png": "[encoded data removed]"
    }
   },
   "cell_type": "markdown",
   "id": "af326aff-fe58-41d9-9c03-128bb1449b5b",
   "metadata": {},
   "source": [
    "Otwórz stronę http://localhost:8000/docs#/default/say_hello_hello_get i wypróbuj serwis\n",
    "\n",
    "![image.png](attachment:1b5ffc35-24bc-4e4e-ae8a-6a3e8c56a6d6.png)"
   ]
  },
  {
   "cell_type": "markdown",
   "id": "f5367409-a220-43dd-b062-478d113bf5a2",
   "metadata": {},
   "source": [
    "Otwórz stronę http://localhost:8000/docs#/default/say_hello_hello_get i wypróbuj serwis"
   ]
  },
  {
   "cell_type": "markdown",
   "id": "6cca5f50-2538-472b-8d53-0ef338519c29",
   "metadata": {},
   "source": [
    "### 8.2 Wdrożenie zbudowanego zbioru modeli jako mikroserwis"
   ]
  },
  {
   "cell_type": "markdown",
   "id": "40ff791a-6693-41da-a929-02fb3cce1165",
   "metadata": {},
   "source": [
    "**TODO 8.2.1** zaimplementuj klasę ```ClassifierDeployment```\n",
    "* W konstruktorze przekaż słowniki z modelami i etykietami\n",
    "* Zaimplementuj metodę ```calssify`` zgodnie ze specyfikacją"
   ]
  },
  {
   "cell_type": "code",
   "execution_count": null,
   "id": "fe958811-08fb-493e-83e4-95a5c2792e92",
   "metadata": {},
   "outputs": [],
   "source": [
    "import requests\n",
    "from fastapi import FastAPI\n",
    "from ray import serve\n",
    "# import uvicorn\n",
    "\n",
    "# 1: Define a FastAPI app and wrap it in a deployment with a route handler.\n",
    "app = FastAPI()\n",
    "\n",
    "\n",
    "@serve.deployment\n",
    "@serve.ingress(app)\n",
    "class ClassifierDeployment:\n",
    "    \n",
    "    def __init__(self,models,labels):\n",
    "       \n",
    "        \n",
    "    # FastAPI will automatically parse the HTTP request for us.\n",
    "    @app.get(\"/classify\")\n",
    "    def classify(self, entity: str, text: str) -> str:\n",
    "        \"\"\"\n",
    "        Params: entity:str nazwa obiektu\n",
    "                text: treść wypowiedzi do sklasyfikowania\n",
    "        Returns: \n",
    "                tekstową etykietę (Irrevelant, Positive, Neutral, Negative)\n",
    "        \n",
    "        \"\"\"\n",
    "        \n",
    "\n",
    "\n",
    "# 2: Deploy the deployment.\n",
    "\n",
    "app = ClassifierDeployment.bind(????)\n",
    "serve.run(app, route_prefix=\"/\")"
   ]
  },
  {
   "cell_type": "markdown",
   "id": "be74887c-19cd-4560-957e-9cd3d35bd1ef",
   "metadata": {},
   "source": [
    "Wyświetlimy przykładowe wypowiedzi"
   ]
  },
  {
   "cell_type": "code",
   "execution_count": null,
   "id": "9600c6b4-67a3-49ac-915d-608c0b21d267",
   "metadata": {},
   "outputs": [],
   "source": [
    "ds_train.filter(lambda row:row['Entity']=='Nvidia').random_shuffle(seed=1).to_pandas().head(20)"
   ]
  },
  {
   "cell_type": "markdown",
   "id": "76bbafb0-65b0-4963-878d-cca6c72a30c9",
   "metadata": {},
   "source": [
    "**TODO 8.2.2** Zamieśc kilka przykładowych wywołań mikroserwisu"
   ]
  },
  {
   "cell_type": "code",
   "execution_count": 87,
   "id": "d397ae9e-f760-432c-82a8-0864b058c128",
   "metadata": {},
   "outputs": [
    {
     "name": "stdout",
     "output_type": "stream",
     "text": [
      "Negative\n"
     ]
    }
   ],
   "source": [
    "print(requests.get(\"http://0.0.0.0:8000/classify\", params={\"entity\": \"nvidia\",'text':'so like, is there even a single game where'}).json())"
   ]
  },
  {
   "attachments": {
    "7a74064a-fc70-4038-89ec-5cb1220d726a.png": {
     "image/png": "[encoded data removed]"
    },
    "c2c5ee0b-2fad-4862-8524-ab82ca1c9653.png": {
     "image/png": "[encoded data removed]"
    }
   },
   "cell_type": "markdown",
   "id": "324b56f1-b935-4663-9831-e92b02db55c1",
   "metadata": {},
   "source": [
    "**TODO 8.2.3** Powtórz wywołanie w intefejsie Swaggera. Możesz wkleić bezpośrednio zrzuty ekranu\n",
    "\n",
    "![image.png](attachment:c2c5ee0b-2fad-4862-8524-ab82ca1c9653.png)\n",
    "\n",
    "![image.png](attachment:7a74064a-fc70-4038-89ec-5cb1220d726a.png)\n"
   ]
  }
 ],
 "metadata": {
  "kernelspec": {
   "display_name": "Python 3 (ipykernel)",
   "language": "python",
   "name": "python3"
  },
  "language_info": {
   "codemirror_mode": {
    "name": "ipython",
    "version": 3
   },
   "file_extension": ".py",
   "mimetype": "text/x-python",
   "name": "python",
   "nbconvert_exporter": "python",
   "pygments_lexer": "ipython3",
   "version": "3.10.12"
  }
 },
 "nbformat": 4,
 "nbformat_minor": 5
}
